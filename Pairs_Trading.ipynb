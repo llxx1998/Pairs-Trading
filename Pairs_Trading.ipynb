{
 "cells": [
  {
   "cell_type": "markdown",
   "metadata": {},
   "source": [
    "# Problem 1: Pairs Trading Strategy"
   ]
  },
  {
   "cell_type": "code",
   "execution_count": 1,
   "metadata": {
    "colab": {
     "base_uri": "https://localhost:8080/"
    },
    "id": "NUoVD38HMgWj",
    "outputId": "2d815e2e-059f-4e41-ad79-2c83978d004a"
   },
   "outputs": [],
   "source": [
    "from yahooquery import Screener, Ticker\n",
    "import pandas as pd\n",
    "import statsmodels.api as sm\n",
    "import numpy as np\n",
    "import math\n",
    "from statsmodels.tsa.stattools import coint, adfuller\n",
    "import matplotlib.pyplot as plt"
   ]
  },
  {
   "cell_type": "code",
   "execution_count": 2,
   "metadata": {},
   "outputs": [],
   "source": [
    "#pip install yahooquery"
   ]
  },
  {
   "cell_type": "markdown",
   "metadata": {},
   "source": [
    "# Question 1"
   ]
  },
  {
   "cell_type": "markdown",
   "metadata": {},
   "source": [
    "Our group want to rationalize our choice of instruments from two perspectives: **economical reason and statistical test**. <br>\n",
    "1. We chose 9 securities in the beverage industry of S&P 500. Because we believed that companies in the same industry are **exposed to similar risk**. For instance, all beverage companies face supply chain challange, similar policy and customer attitudes, etc. <br>\n",
    "2. Secondly, by **Engle-Granger cointegration test**, we put these 9 securities into the function of find_cointegrated_pairs to calculate the cointergrate scores and corresponding p values of various pairs in last 2000 days, which can help us find the all cointegrated pairs. <br>\n",
    "3. Finally, we aimed to find the optimal pair which **passes cointegrated test** and also has **similar market capital size and financial ratios**.\n",
    "\n"
   ]
  },
  {
   "cell_type": "markdown",
   "metadata": {},
   "source": [
    "**9 Beverage Securities** are as follows:<br>\n",
    "\n",
    "PEP — Pepsico, Inc., <br>\n",
    "KO — Coca-Cola Company, <br>\n",
    "MNST — Monster Beverage Corporation, <br>\n",
    "KDP — Keurig Dr Pepper Inc., <br>\n",
    "CELH — Celsius Holdings, Inc., <br>\n",
    "FIZZ — National Beverage Corp., <br>\n",
    "SBUX — Starbucks Corporation, <br>\n",
    "MDLZ — Mondelez International, Inc., <br>\n",
    "STZ — Constellation Brands, Inc."
   ]
  },
  {
   "cell_type": "code",
   "execution_count": 3,
   "metadata": {
    "id": "rQU6oC8SlTt4"
   },
   "outputs": [],
   "source": [
    "def get_data(ticker_names, days=1000):\n",
    "    \"\"\"\n",
    "    ticker_names: list\n",
    "    # output\n",
    "    table: pd.DataFrame\n",
    "    \"\"\"\n",
    "    yh_conn = Ticker(ticker_names)\n",
    "    res = yh_conn.history(period=f\"{days}D\", interval='1d')\n",
    "    table = None\n",
    "    for crypto in res.index.get_level_values(0).unique().tolist():\n",
    "        temp = res.loc[crypto, ]\n",
    "        temp.columns = [crypto.split(\"-\")[0] + \"-\" + x for x in temp.columns.tolist()]\n",
    "        if table is None:\n",
    "            table = temp\n",
    "        else:\n",
    "            table = pd.merge(table, temp, how='outer', left_index=True, right_index=True)\n",
    "    table.reset_index(inplace=True)\n",
    "    table['date'] = pd.to_datetime(table['date'])\n",
    "    return table"
   ]
  },
  {
   "cell_type": "code",
   "execution_count": 4,
   "metadata": {
    "id": "Hf1m9GXNMdZe"
   },
   "outputs": [],
   "source": [
    "def find_cointegrated_pairs(data):\n",
    "    \"\"\"\n",
    "    data: pd.DataFrame\n",
    "    # output\n",
    "    pairs_result: pd.DataFrame\n",
    "    \"\"\"\n",
    "    \n",
    "    # Use the Engle-Granger test to test whether residual is I(0).\n",
    "    # H_0 is residual is I(1), H_1 is residual is I(0).\n",
    "    \n",
    "    \n",
    "    n = data.shape[1]\n",
    "    score_matrix = np.zeros((n, n))\n",
    "    pvalue_matrix = np.ones((n, n))\n",
    "    keys = data.keys()\n",
    "    pairs = []\n",
    "    scores = []\n",
    "    pvalues = []\n",
    "    for i in range(n):\n",
    "        for j in range(i+1, n):\n",
    "            S1 = data[keys[i]]\n",
    "            S2 = data[keys[j]]\n",
    "            result = coint(S1, S2)\n",
    "            score = result[0]\n",
    "            pvalue = result[1]\n",
    "            score_matrix[i, j] = score\n",
    "            pvalue_matrix[i, j] = pvalue\n",
    "            if pvalue < 0.05:\n",
    "                pairs.append((keys[i], keys[j]))\n",
    "                scores.append(score_matrix[i,j])\n",
    "                pvalues.append(pvalue_matrix[i,j])\n",
    "                \n",
    "    pairs_result = pd.DataFrame({'pairs': pairs, 'scores': scores, 'pvalues': pvalues}, \n",
    "                                columns=['pairs', 'scores', 'pvalues'])\n",
    "    pairs_result.sort_values(by=['pvalues'])\n",
    "    return pairs_result"
   ]
  },
  {
   "cell_type": "code",
   "execution_count": 5,
   "metadata": {},
   "outputs": [],
   "source": [
    "def stationarity_test(data, cutoff=0.01):\n",
    "    \"\"\"\n",
    "    data: pd.DataFrame\n",
    "    cutoff: 0.01\n",
    "    # output\n",
    "    stationarity_result: string\n",
    "    \"\"\"\n",
    "    # H_0 in adfuller is unit root exists (non-stationary)\n",
    "    # We must observe significant p-value to convince ourselves that the series is stationary\n",
    "    pvalue = adfuller(data)[1]\n",
    "    if pvalue < cutoff:\n",
    "        print('p-value = ' + str(pvalue) + ' The series ' + data.name +' is likely stationary.')\n",
    "    else:\n",
    "        print('p-value = ' + str(pvalue) + ' The series ' + data.name +' is likely non-stationary.')"
   ]
  },
  {
   "cell_type": "code",
   "execution_count": 6,
   "metadata": {},
   "outputs": [
    {
     "data": {
      "text/html": [
       "<div>\n",
       "<style scoped>\n",
       "    .dataframe tbody tr th:only-of-type {\n",
       "        vertical-align: middle;\n",
       "    }\n",
       "\n",
       "    .dataframe tbody tr th {\n",
       "        vertical-align: top;\n",
       "    }\n",
       "\n",
       "    .dataframe thead th {\n",
       "        text-align: right;\n",
       "    }\n",
       "</style>\n",
       "<table border=\"1\" class=\"dataframe\">\n",
       "  <thead>\n",
       "    <tr style=\"text-align: right;\">\n",
       "      <th></th>\n",
       "      <th>date</th>\n",
       "      <th>PEP-open</th>\n",
       "      <th>PEP-low</th>\n",
       "      <th>PEP-volume</th>\n",
       "      <th>PEP-high</th>\n",
       "      <th>PEP-close</th>\n",
       "      <th>PEP-adjclose</th>\n",
       "      <th>PEP-dividends</th>\n",
       "      <th>PEP-splits</th>\n",
       "      <th>KO-open</th>\n",
       "      <th>...</th>\n",
       "      <th>MDLZ-dividends</th>\n",
       "      <th>MDLZ-splits</th>\n",
       "      <th>STZ-open</th>\n",
       "      <th>STZ-low</th>\n",
       "      <th>STZ-volume</th>\n",
       "      <th>STZ-high</th>\n",
       "      <th>STZ-close</th>\n",
       "      <th>STZ-adjclose</th>\n",
       "      <th>STZ-dividends</th>\n",
       "      <th>STZ-splits</th>\n",
       "    </tr>\n",
       "  </thead>\n",
       "  <tbody>\n",
       "    <tr>\n",
       "      <th>1995</th>\n",
       "      <td>2022-12-09</td>\n",
       "      <td>184.210007</td>\n",
       "      <td>183.050003</td>\n",
       "      <td>3116100</td>\n",
       "      <td>184.210007</td>\n",
       "      <td>183.100006</td>\n",
       "      <td>183.100006</td>\n",
       "      <td>0.0</td>\n",
       "      <td>0.0</td>\n",
       "      <td>63.610001</td>\n",
       "      <td>...</td>\n",
       "      <td>0.0</td>\n",
       "      <td>0.0</td>\n",
       "      <td>245.300003</td>\n",
       "      <td>241.889999</td>\n",
       "      <td>740600</td>\n",
       "      <td>246.589996</td>\n",
       "      <td>242.039993</td>\n",
       "      <td>242.039993</td>\n",
       "      <td>0.0</td>\n",
       "      <td>0.0</td>\n",
       "    </tr>\n",
       "    <tr>\n",
       "      <th>1996</th>\n",
       "      <td>2022-12-12</td>\n",
       "      <td>184.179993</td>\n",
       "      <td>182.360001</td>\n",
       "      <td>4691400</td>\n",
       "      <td>184.179993</td>\n",
       "      <td>183.970001</td>\n",
       "      <td>183.970001</td>\n",
       "      <td>0.0</td>\n",
       "      <td>0.0</td>\n",
       "      <td>63.299999</td>\n",
       "      <td>...</td>\n",
       "      <td>0.0</td>\n",
       "      <td>0.0</td>\n",
       "      <td>242.619995</td>\n",
       "      <td>241.149994</td>\n",
       "      <td>603500</td>\n",
       "      <td>245.570007</td>\n",
       "      <td>245.490005</td>\n",
       "      <td>245.490005</td>\n",
       "      <td>0.0</td>\n",
       "      <td>0.0</td>\n",
       "    </tr>\n",
       "    <tr>\n",
       "      <th>1997</th>\n",
       "      <td>2022-12-13</td>\n",
       "      <td>186.479996</td>\n",
       "      <td>182.940002</td>\n",
       "      <td>5634900</td>\n",
       "      <td>186.839996</td>\n",
       "      <td>183.869995</td>\n",
       "      <td>183.869995</td>\n",
       "      <td>0.0</td>\n",
       "      <td>0.0</td>\n",
       "      <td>64.589996</td>\n",
       "      <td>...</td>\n",
       "      <td>0.0</td>\n",
       "      <td>0.0</td>\n",
       "      <td>248.440002</td>\n",
       "      <td>240.220001</td>\n",
       "      <td>1889800</td>\n",
       "      <td>248.440002</td>\n",
       "      <td>240.860001</td>\n",
       "      <td>240.860001</td>\n",
       "      <td>0.0</td>\n",
       "      <td>0.0</td>\n",
       "    </tr>\n",
       "    <tr>\n",
       "      <th>1998</th>\n",
       "      <td>2022-12-14</td>\n",
       "      <td>184.070007</td>\n",
       "      <td>182.130005</td>\n",
       "      <td>5392500</td>\n",
       "      <td>185.880005</td>\n",
       "      <td>183.360001</td>\n",
       "      <td>183.360001</td>\n",
       "      <td>0.0</td>\n",
       "      <td>0.0</td>\n",
       "      <td>64.190002</td>\n",
       "      <td>...</td>\n",
       "      <td>0.0</td>\n",
       "      <td>0.0</td>\n",
       "      <td>241.449997</td>\n",
       "      <td>238.059998</td>\n",
       "      <td>1238300</td>\n",
       "      <td>242.729996</td>\n",
       "      <td>239.550003</td>\n",
       "      <td>239.550003</td>\n",
       "      <td>0.0</td>\n",
       "      <td>0.0</td>\n",
       "    </tr>\n",
       "    <tr>\n",
       "      <th>1999</th>\n",
       "      <td>2022-12-15</td>\n",
       "      <td>181.979996</td>\n",
       "      <td>178.389999</td>\n",
       "      <td>6127800</td>\n",
       "      <td>182.710007</td>\n",
       "      <td>180.250000</td>\n",
       "      <td>180.250000</td>\n",
       "      <td>0.0</td>\n",
       "      <td>0.0</td>\n",
       "      <td>63.590000</td>\n",
       "      <td>...</td>\n",
       "      <td>0.0</td>\n",
       "      <td>0.0</td>\n",
       "      <td>237.770004</td>\n",
       "      <td>233.429993</td>\n",
       "      <td>1404000</td>\n",
       "      <td>239.539993</td>\n",
       "      <td>235.399994</td>\n",
       "      <td>235.399994</td>\n",
       "      <td>0.0</td>\n",
       "      <td>0.0</td>\n",
       "    </tr>\n",
       "  </tbody>\n",
       "</table>\n",
       "<p>5 rows × 73 columns</p>\n",
       "</div>"
      ],
      "text/plain": [
       "           date    PEP-open     PEP-low  PEP-volume    PEP-high   PEP-close  \\\n",
       "1995 2022-12-09  184.210007  183.050003     3116100  184.210007  183.100006   \n",
       "1996 2022-12-12  184.179993  182.360001     4691400  184.179993  183.970001   \n",
       "1997 2022-12-13  186.479996  182.940002     5634900  186.839996  183.869995   \n",
       "1998 2022-12-14  184.070007  182.130005     5392500  185.880005  183.360001   \n",
       "1999 2022-12-15  181.979996  178.389999     6127800  182.710007  180.250000   \n",
       "\n",
       "      PEP-adjclose  PEP-dividends  PEP-splits    KO-open  ...  MDLZ-dividends  \\\n",
       "1995    183.100006            0.0         0.0  63.610001  ...             0.0   \n",
       "1996    183.970001            0.0         0.0  63.299999  ...             0.0   \n",
       "1997    183.869995            0.0         0.0  64.589996  ...             0.0   \n",
       "1998    183.360001            0.0         0.0  64.190002  ...             0.0   \n",
       "1999    180.250000            0.0         0.0  63.590000  ...             0.0   \n",
       "\n",
       "      MDLZ-splits    STZ-open     STZ-low  STZ-volume    STZ-high   STZ-close  \\\n",
       "1995          0.0  245.300003  241.889999      740600  246.589996  242.039993   \n",
       "1996          0.0  242.619995  241.149994      603500  245.570007  245.490005   \n",
       "1997          0.0  248.440002  240.220001     1889800  248.440002  240.860001   \n",
       "1998          0.0  241.449997  238.059998     1238300  242.729996  239.550003   \n",
       "1999          0.0  237.770004  233.429993     1404000  239.539993  235.399994   \n",
       "\n",
       "      STZ-adjclose  STZ-dividends  STZ-splits  \n",
       "1995    242.039993            0.0         0.0  \n",
       "1996    245.490005            0.0         0.0  \n",
       "1997    240.860001            0.0         0.0  \n",
       "1998    239.550003            0.0         0.0  \n",
       "1999    235.399994            0.0         0.0  \n",
       "\n",
       "[5 rows x 73 columns]"
      ]
     },
     "execution_count": 6,
     "metadata": {},
     "output_type": "execute_result"
    }
   ],
   "source": [
    "# find cointergrated pairs from 11 securities in food and beverage industry\n",
    "pair_tickers = ['PEP', 'KO', 'MNST', 'KDP', 'CELH', 'FIZZ', 'SBUX', 'MDLZ', 'STZ']\n",
    "\n",
    "df = get_data(pair_tickers, 2000)\n",
    "df.tail()"
   ]
  },
  {
   "cell_type": "code",
   "execution_count": 7,
   "metadata": {},
   "outputs": [
    {
     "data": {
      "text/html": [
       "<div>\n",
       "<style scoped>\n",
       "    .dataframe tbody tr th:only-of-type {\n",
       "        vertical-align: middle;\n",
       "    }\n",
       "\n",
       "    .dataframe tbody tr th {\n",
       "        vertical-align: top;\n",
       "    }\n",
       "\n",
       "    .dataframe thead th {\n",
       "        text-align: right;\n",
       "    }\n",
       "</style>\n",
       "<table border=\"1\" class=\"dataframe\">\n",
       "  <thead>\n",
       "    <tr style=\"text-align: right;\">\n",
       "      <th></th>\n",
       "      <th>PEP-adjclose</th>\n",
       "      <th>KO-adjclose</th>\n",
       "      <th>MNST-adjclose</th>\n",
       "      <th>KDP-adjclose</th>\n",
       "      <th>CELH-adjclose</th>\n",
       "      <th>FIZZ-adjclose</th>\n",
       "      <th>SBUX-adjclose</th>\n",
       "      <th>MDLZ-adjclose</th>\n",
       "      <th>STZ-adjclose</th>\n",
       "    </tr>\n",
       "  </thead>\n",
       "  <tbody>\n",
       "    <tr>\n",
       "      <th>0</th>\n",
       "      <td>77.362251</td>\n",
       "      <td>33.655193</td>\n",
       "      <td>39.236668</td>\n",
       "      <td>10.087617</td>\n",
       "      <td>0.46</td>\n",
       "      <td>9.272329</td>\n",
       "      <td>35.575485</td>\n",
       "      <td>32.107143</td>\n",
       "      <td>97.409782</td>\n",
       "    </tr>\n",
       "    <tr>\n",
       "      <th>1</th>\n",
       "      <td>76.838455</td>\n",
       "      <td>33.283913</td>\n",
       "      <td>39.013332</td>\n",
       "      <td>10.040037</td>\n",
       "      <td>0.52</td>\n",
       "      <td>9.092046</td>\n",
       "      <td>34.411057</td>\n",
       "      <td>31.791111</td>\n",
       "      <td>97.138329</td>\n",
       "    </tr>\n",
       "    <tr>\n",
       "      <th>2</th>\n",
       "      <td>76.520988</td>\n",
       "      <td>32.982250</td>\n",
       "      <td>37.320000</td>\n",
       "      <td>9.955747</td>\n",
       "      <td>0.52</td>\n",
       "      <td>9.128922</td>\n",
       "      <td>34.600822</td>\n",
       "      <td>31.492153</td>\n",
       "      <td>96.803474</td>\n",
       "    </tr>\n",
       "    <tr>\n",
       "      <th>3</th>\n",
       "      <td>76.465446</td>\n",
       "      <td>32.974510</td>\n",
       "      <td>37.703335</td>\n",
       "      <td>10.031878</td>\n",
       "      <td>0.50</td>\n",
       "      <td>9.341984</td>\n",
       "      <td>34.876839</td>\n",
       "      <td>31.287174</td>\n",
       "      <td>96.197151</td>\n",
       "    </tr>\n",
       "    <tr>\n",
       "      <th>4</th>\n",
       "      <td>76.719414</td>\n",
       "      <td>32.920372</td>\n",
       "      <td>39.246666</td>\n",
       "      <td>10.170549</td>\n",
       "      <td>0.45</td>\n",
       "      <td>9.231356</td>\n",
       "      <td>34.682758</td>\n",
       "      <td>31.218828</td>\n",
       "      <td>98.124733</td>\n",
       "    </tr>\n",
       "  </tbody>\n",
       "</table>\n",
       "</div>"
      ],
      "text/plain": [
       "   PEP-adjclose  KO-adjclose  MNST-adjclose  KDP-adjclose  CELH-adjclose  \\\n",
       "0     77.362251    33.655193      39.236668     10.087617           0.46   \n",
       "1     76.838455    33.283913      39.013332     10.040037           0.52   \n",
       "2     76.520988    32.982250      37.320000      9.955747           0.52   \n",
       "3     76.465446    32.974510      37.703335     10.031878           0.50   \n",
       "4     76.719414    32.920372      39.246666     10.170549           0.45   \n",
       "\n",
       "   FIZZ-adjclose  SBUX-adjclose  MDLZ-adjclose  STZ-adjclose  \n",
       "0       9.272329      35.575485      32.107143     97.409782  \n",
       "1       9.092046      34.411057      31.791111     97.138329  \n",
       "2       9.128922      34.600822      31.492153     96.803474  \n",
       "3       9.341984      34.876839      31.287174     96.197151  \n",
       "4       9.231356      34.682758      31.218828     98.124733  "
      ]
     },
     "execution_count": 7,
     "metadata": {},
     "output_type": "execute_result"
    }
   ],
   "source": [
    "findpair_data = df[[x + \"-adjclose\" for x in pair_tickers]]\n",
    "findpair_data.head()"
   ]
  },
  {
   "cell_type": "code",
   "execution_count": 8,
   "metadata": {},
   "outputs": [
    {
     "data": {
      "text/html": [
       "<div>\n",
       "<style scoped>\n",
       "    .dataframe tbody tr th:only-of-type {\n",
       "        vertical-align: middle;\n",
       "    }\n",
       "\n",
       "    .dataframe tbody tr th {\n",
       "        vertical-align: top;\n",
       "    }\n",
       "\n",
       "    .dataframe thead th {\n",
       "        text-align: right;\n",
       "    }\n",
       "</style>\n",
       "<table border=\"1\" class=\"dataframe\">\n",
       "  <thead>\n",
       "    <tr style=\"text-align: right;\">\n",
       "      <th></th>\n",
       "      <th>pairs</th>\n",
       "      <th>scores</th>\n",
       "      <th>pvalues</th>\n",
       "    </tr>\n",
       "  </thead>\n",
       "  <tbody>\n",
       "    <tr>\n",
       "      <th>0</th>\n",
       "      <td>(PEP-adjclose, KO-adjclose)</td>\n",
       "      <td>-3.777551</td>\n",
       "      <td>0.014519</td>\n",
       "    </tr>\n",
       "    <tr>\n",
       "      <th>1</th>\n",
       "      <td>(MNST-adjclose, CELH-adjclose)</td>\n",
       "      <td>-3.712288</td>\n",
       "      <td>0.017669</td>\n",
       "    </tr>\n",
       "    <tr>\n",
       "      <th>2</th>\n",
       "      <td>(FIZZ-adjclose, STZ-adjclose)</td>\n",
       "      <td>-3.357595</td>\n",
       "      <td>0.047283</td>\n",
       "    </tr>\n",
       "  </tbody>\n",
       "</table>\n",
       "</div>"
      ],
      "text/plain": [
       "                            pairs    scores   pvalues\n",
       "0     (PEP-adjclose, KO-adjclose) -3.777551  0.014519\n",
       "1  (MNST-adjclose, CELH-adjclose) -3.712288  0.017669\n",
       "2   (FIZZ-adjclose, STZ-adjclose) -3.357595  0.047283"
      ]
     },
     "execution_count": 8,
     "metadata": {},
     "output_type": "execute_result"
    }
   ],
   "source": [
    "pairs_result = find_cointegrated_pairs(findpair_data)\n",
    "pairs_result"
   ]
  },
  {
   "cell_type": "code",
   "execution_count": 9,
   "metadata": {},
   "outputs": [
    {
     "name": "stdout",
     "output_type": "stream",
     "text": [
      "p-value = 4.2479877702748937e-26 The series KO-adjclose is likely stationary.\n",
      "None\n",
      "p-value = 6.816167181064719e-25 The series PEP-adjclose is likely stationary.\n",
      "None\n"
     ]
    }
   ],
   "source": [
    "# Stationarity Test\n",
    "print(stationarity_test(np.log1p(findpair_data['KO-adjclose'].pct_change()[1:]), cutoff=0.01))\n",
    "print(stationarity_test(np.log1p(findpair_data['PEP-adjclose'].pct_change()[1:]), cutoff=0.01))"
   ]
  },
  {
   "cell_type": "markdown",
   "metadata": {},
   "source": [
    "We found three pairs whose cointegrated scores passed p values test, ie., p values are lower than 0.05. We also test the stationarity of these two securites return and we found that both of them are stationary as they have p values less than thershold (0.1). <br>\n",
    "As a result, we chose **PEP (Pepsico) and KO (Coca-Cola)** as the optimal pair to trade below since their p value is minimum, which means they are highly cointergrated. At the same time, they have very similar market capitalization."
   ]
  },
  {
   "cell_type": "code",
   "execution_count": 10,
   "metadata": {},
   "outputs": [],
   "source": [
    "ticker_list = ['KO','PEP']"
   ]
  },
  {
   "cell_type": "code",
   "execution_count": 11,
   "metadata": {
    "colab": {
     "base_uri": "https://localhost:8080/",
     "height": 283
    },
    "id": "jRjbzij8uyXZ",
    "outputId": "deacf1a7-ec89-4d48-ec92-07ef94b38ebc"
   },
   "outputs": [
    {
     "data": {
      "text/plain": [
       "<AxesSubplot:>"
      ]
     },
     "execution_count": 11,
     "metadata": {},
     "output_type": "execute_result"
    },
    {
     "data": {
      "image/png": "[encoded data removed]",
      "text/plain": [
       "<Figure size 432x288 with 1 Axes>"
      ]
     },
     "metadata": {
      "needs_background": "light"
     },
     "output_type": "display_data"
    }
   ],
   "source": [
    "findpair_data[[x + \"-adjclose\" for x in ticker_list]].plot()"
   ]
  },
  {
   "cell_type": "markdown",
   "metadata": {},
   "source": [
    "# Question 2"
   ]
  },
  {
   "cell_type": "markdown",
   "metadata": {},
   "source": [
    "To construct Z-scores, we firstly need to calculate the residual R(tau). By cointegration approach, **R(tau) = A(tau)-beta*B(tau)-alpha**. In Q1, we have proved the cointegrated property of PEP (Pepsico) and KO (Coca-Cola). A(t) is KO and B(t) is PEP. Then we use **ordinary least squares (OLS)** to get significant alpha and beta. The Z-scores calculation details are in the function of **generate_single_signal()**. Z-scores results are in **\"signals_df\"**. The visualization and analysis of Z-scores are in the following."
   ]
  },
  {
   "cell_type": "code",
   "execution_count": 12,
   "metadata": {
    "id": "cHIcCq-Wimwt"
   },
   "outputs": [],
   "source": [
    "def generate_single_signal(x, D_up: float=1, D_down: float=1):\n",
    "    \"\"\"\n",
    "    x: pd.DataFrame\n",
    "    D_up: float, start point = 1\n",
    "    D_down: float, start point = 1\n",
    "    # output: \n",
    "    1 for long, -1 for short, 0 for no trading\n",
    "    date\n",
    "    \"\"\"\n",
    "    A_colname = ticker_list[0] + \"-adjclose\"\n",
    "    B_colname = ticker_list[1] + \"-adjclose\"\n",
    "    A, B = np.log(x[A_colname].iloc[:-1]), np.log(x[B_colname].iloc[:-1])\n",
    "    B_constant = sm.add_constant(B)\n",
    "    model = sm.OLS(A, B_constant)\n",
    "    results = model.fit()\n",
    "    alpha, beta = results.params[0], results.params[1]\n",
    "    \n",
    "    # r_sigma is S(tau) - the volatility of the residual\n",
    "    r_sigma = np.sqrt(np.sum(results.resid**2)/results.df_resid)\n",
    "    \n",
    "    # results.predict(B) = alpha + beta*B \n",
    "    residual_cal = A - results.predict(B_constant)\n",
    "    \n",
    "    #Question 2: Residual and Z-scores\n",
    "    A_t = np.log(x[A_colname]).values[-1]\n",
    "    B_t = np.log(x[B_colname]).values[-1]\n",
    "    R_t = A_t - alpha - beta * B_t\n",
    "    Z_t = R_t / r_sigma\n",
    "    \n",
    "    #Question 3: Optimal entry adna exit point\n",
    "    return [x['date'].iloc[-1], alpha, beta, Z_t, -1 if Z_t > D_up else (1 if Z_t < - D_down else 0)]"
   ]
  },
  {
   "cell_type": "code",
   "execution_count": 13,
   "metadata": {
    "id": "IjSWk9rIjnF7"
   },
   "outputs": [],
   "source": [
    "def produce_signals(x, L=61, D_up=1.0, D_down=1.0):\n",
    "    \"\"\"\n",
    "    x: pd.DataFrame\n",
    "    L: int\n",
    "    D_up: float, start point = 1\n",
    "    D_down: float, start point = 1\n",
    "    # output\n",
    "    res: pd.DataFrame\n",
    "    \"\"\"\n",
    "    res = []\n",
    "    for ix in range(L, x.shape[0]):\n",
    "        res.append(generate_single_signal(x.iloc[ix - L:ix + 1, :], D_up, D_down))\n",
    "    res_df = pd.DataFrame(res, columns=['Date','alpha','Beta','Z_t','Signal'])\n",
    "    return res_df"
   ]
  },
  {
   "cell_type": "code",
   "execution_count": 14,
   "metadata": {
    "colab": {
     "base_uri": "https://localhost:8080/",
     "height": 679
    },
    "id": "yMvSHimxlhhW",
    "outputId": "b2694294-bc47-47c7-cb08-a97c8225016c"
   },
   "outputs": [
    {
     "data": {
      "text/html": [
       "<div>\n",
       "<style scoped>\n",
       "    .dataframe tbody tr th:only-of-type {\n",
       "        vertical-align: middle;\n",
       "    }\n",
       "\n",
       "    .dataframe tbody tr th {\n",
       "        vertical-align: top;\n",
       "    }\n",
       "\n",
       "    .dataframe thead th {\n",
       "        text-align: right;\n",
       "    }\n",
       "</style>\n",
       "<table border=\"1\" class=\"dataframe\">\n",
       "  <thead>\n",
       "    <tr style=\"text-align: right;\">\n",
       "      <th></th>\n",
       "      <th>date</th>\n",
       "      <th>KO-open</th>\n",
       "      <th>KO-volume</th>\n",
       "      <th>KO-low</th>\n",
       "      <th>KO-high</th>\n",
       "      <th>KO-close</th>\n",
       "      <th>KO-adjclose</th>\n",
       "      <th>KO-dividends</th>\n",
       "      <th>PEP-open</th>\n",
       "      <th>PEP-volume</th>\n",
       "      <th>PEP-low</th>\n",
       "      <th>PEP-high</th>\n",
       "      <th>PEP-close</th>\n",
       "      <th>PEP-adjclose</th>\n",
       "      <th>PEP-dividends</th>\n",
       "    </tr>\n",
       "  </thead>\n",
       "  <tbody>\n",
       "    <tr>\n",
       "      <th>0</th>\n",
       "      <td>2018-12-28</td>\n",
       "      <td>47.889999</td>\n",
       "      <td>13218200</td>\n",
       "      <td>47.029999</td>\n",
       "      <td>48.009998</td>\n",
       "      <td>47.200001</td>\n",
       "      <td>41.652256</td>\n",
       "      <td>0.0</td>\n",
       "      <td>110.089996</td>\n",
       "      <td>5410300</td>\n",
       "      <td>109.220001</td>\n",
       "      <td>111.099998</td>\n",
       "      <td>110.360001</td>\n",
       "      <td>98.551903</td>\n",
       "      <td>0.0</td>\n",
       "    </tr>\n",
       "    <tr>\n",
       "      <th>1</th>\n",
       "      <td>2018-12-31</td>\n",
       "      <td>47.490002</td>\n",
       "      <td>10576300</td>\n",
       "      <td>46.959999</td>\n",
       "      <td>47.540001</td>\n",
       "      <td>47.349998</td>\n",
       "      <td>41.784626</td>\n",
       "      <td>0.0</td>\n",
       "      <td>110.580002</td>\n",
       "      <td>5019100</td>\n",
       "      <td>109.320000</td>\n",
       "      <td>111.089996</td>\n",
       "      <td>110.480003</td>\n",
       "      <td>98.659065</td>\n",
       "      <td>0.0</td>\n",
       "    </tr>\n",
       "    <tr>\n",
       "      <th>2</th>\n",
       "      <td>2019-01-02</td>\n",
       "      <td>46.939999</td>\n",
       "      <td>11603700</td>\n",
       "      <td>46.560001</td>\n",
       "      <td>47.220001</td>\n",
       "      <td>46.930000</td>\n",
       "      <td>41.413990</td>\n",
       "      <td>0.0</td>\n",
       "      <td>109.150002</td>\n",
       "      <td>4835400</td>\n",
       "      <td>108.230003</td>\n",
       "      <td>110.019997</td>\n",
       "      <td>109.279999</td>\n",
       "      <td>97.587456</td>\n",
       "      <td>0.0</td>\n",
       "    </tr>\n",
       "    <tr>\n",
       "      <th>3</th>\n",
       "      <td>2019-01-03</td>\n",
       "      <td>46.820000</td>\n",
       "      <td>14714400</td>\n",
       "      <td>46.529999</td>\n",
       "      <td>47.369999</td>\n",
       "      <td>46.639999</td>\n",
       "      <td>41.158073</td>\n",
       "      <td>0.0</td>\n",
       "      <td>108.910004</td>\n",
       "      <td>5975900</td>\n",
       "      <td>108.050003</td>\n",
       "      <td>110.150002</td>\n",
       "      <td>108.260002</td>\n",
       "      <td>96.676582</td>\n",
       "      <td>0.0</td>\n",
       "    </tr>\n",
       "    <tr>\n",
       "      <th>4</th>\n",
       "      <td>2019-01-04</td>\n",
       "      <td>46.750000</td>\n",
       "      <td>13013700</td>\n",
       "      <td>46.639999</td>\n",
       "      <td>47.570000</td>\n",
       "      <td>47.570000</td>\n",
       "      <td>41.978767</td>\n",
       "      <td>0.0</td>\n",
       "      <td>109.540001</td>\n",
       "      <td>6293900</td>\n",
       "      <td>108.239998</td>\n",
       "      <td>110.599998</td>\n",
       "      <td>110.480003</td>\n",
       "      <td>98.659065</td>\n",
       "      <td>0.0</td>\n",
       "    </tr>\n",
       "    <tr>\n",
       "      <th>5</th>\n",
       "      <td>2019-01-07</td>\n",
       "      <td>47.570000</td>\n",
       "      <td>13135500</td>\n",
       "      <td>46.900002</td>\n",
       "      <td>47.750000</td>\n",
       "      <td>46.950001</td>\n",
       "      <td>41.431633</td>\n",
       "      <td>0.0</td>\n",
       "      <td>110.010002</td>\n",
       "      <td>5220300</td>\n",
       "      <td>108.650002</td>\n",
       "      <td>110.379997</td>\n",
       "      <td>109.529999</td>\n",
       "      <td>97.810692</td>\n",
       "      <td>0.0</td>\n",
       "    </tr>\n",
       "    <tr>\n",
       "      <th>6</th>\n",
       "      <td>2019-01-08</td>\n",
       "      <td>47.250000</td>\n",
       "      <td>15420700</td>\n",
       "      <td>47.040001</td>\n",
       "      <td>47.570000</td>\n",
       "      <td>47.480000</td>\n",
       "      <td>41.899349</td>\n",
       "      <td>0.0</td>\n",
       "      <td>110.139999</td>\n",
       "      <td>6407700</td>\n",
       "      <td>109.419998</td>\n",
       "      <td>110.800003</td>\n",
       "      <td>110.580002</td>\n",
       "      <td>98.748367</td>\n",
       "      <td>0.0</td>\n",
       "    </tr>\n",
       "    <tr>\n",
       "      <th>7</th>\n",
       "      <td>2019-01-09</td>\n",
       "      <td>47.080002</td>\n",
       "      <td>18032500</td>\n",
       "      <td>46.430000</td>\n",
       "      <td>47.279999</td>\n",
       "      <td>46.570000</td>\n",
       "      <td>41.096306</td>\n",
       "      <td>0.0</td>\n",
       "      <td>110.330002</td>\n",
       "      <td>8521300</td>\n",
       "      <td>107.489998</td>\n",
       "      <td>110.870003</td>\n",
       "      <td>107.489998</td>\n",
       "      <td>95.988983</td>\n",
       "      <td>0.0</td>\n",
       "    </tr>\n",
       "    <tr>\n",
       "      <th>8</th>\n",
       "      <td>2019-01-10</td>\n",
       "      <td>46.660000</td>\n",
       "      <td>15976600</td>\n",
       "      <td>46.340000</td>\n",
       "      <td>47.090000</td>\n",
       "      <td>47.070000</td>\n",
       "      <td>41.537540</td>\n",
       "      <td>0.0</td>\n",
       "      <td>107.410004</td>\n",
       "      <td>7905000</td>\n",
       "      <td>107.360001</td>\n",
       "      <td>108.339996</td>\n",
       "      <td>108.150002</td>\n",
       "      <td>96.578362</td>\n",
       "      <td>0.0</td>\n",
       "    </tr>\n",
       "    <tr>\n",
       "      <th>9</th>\n",
       "      <td>2019-01-11</td>\n",
       "      <td>47.290001</td>\n",
       "      <td>11088600</td>\n",
       "      <td>46.970001</td>\n",
       "      <td>47.360001</td>\n",
       "      <td>47.340000</td>\n",
       "      <td>41.775799</td>\n",
       "      <td>0.0</td>\n",
       "      <td>107.860001</td>\n",
       "      <td>5939000</td>\n",
       "      <td>107.639999</td>\n",
       "      <td>108.500000</td>\n",
       "      <td>108.160004</td>\n",
       "      <td>96.587288</td>\n",
       "      <td>0.0</td>\n",
       "    </tr>\n",
       "    <tr>\n",
       "      <th>10</th>\n",
       "      <td>2019-01-14</td>\n",
       "      <td>47.250000</td>\n",
       "      <td>11514300</td>\n",
       "      <td>46.990002</td>\n",
       "      <td>47.400002</td>\n",
       "      <td>47.150002</td>\n",
       "      <td>41.608131</td>\n",
       "      <td>0.0</td>\n",
       "      <td>107.849998</td>\n",
       "      <td>5804600</td>\n",
       "      <td>106.959999</td>\n",
       "      <td>107.959999</td>\n",
       "      <td>107.320000</td>\n",
       "      <td>95.837181</td>\n",
       "      <td>0.0</td>\n",
       "    </tr>\n",
       "  </tbody>\n",
       "</table>\n",
       "</div>"
      ],
      "text/plain": [
       "         date    KO-open  KO-volume     KO-low    KO-high   KO-close  \\\n",
       "0  2018-12-28  47.889999   13218200  47.029999  48.009998  47.200001   \n",
       "1  2018-12-31  47.490002   10576300  46.959999  47.540001  47.349998   \n",
       "2  2019-01-02  46.939999   11603700  46.560001  47.220001  46.930000   \n",
       "3  2019-01-03  46.820000   14714400  46.529999  47.369999  46.639999   \n",
       "4  2019-01-04  46.750000   13013700  46.639999  47.570000  47.570000   \n",
       "5  2019-01-07  47.570000   13135500  46.900002  47.750000  46.950001   \n",
       "6  2019-01-08  47.250000   15420700  47.040001  47.570000  47.480000   \n",
       "7  2019-01-09  47.080002   18032500  46.430000  47.279999  46.570000   \n",
       "8  2019-01-10  46.660000   15976600  46.340000  47.090000  47.070000   \n",
       "9  2019-01-11  47.290001   11088600  46.970001  47.360001  47.340000   \n",
       "10 2019-01-14  47.250000   11514300  46.990002  47.400002  47.150002   \n",
       "\n",
       "    KO-adjclose  KO-dividends    PEP-open  PEP-volume     PEP-low    PEP-high  \\\n",
       "0     41.652256           0.0  110.089996     5410300  109.220001  111.099998   \n",
       "1     41.784626           0.0  110.580002     5019100  109.320000  111.089996   \n",
       "2     41.413990           0.0  109.150002     4835400  108.230003  110.019997   \n",
       "3     41.158073           0.0  108.910004     5975900  108.050003  110.150002   \n",
       "4     41.978767           0.0  109.540001     6293900  108.239998  110.599998   \n",
       "5     41.431633           0.0  110.010002     5220300  108.650002  110.379997   \n",
       "6     41.899349           0.0  110.139999     6407700  109.419998  110.800003   \n",
       "7     41.096306           0.0  110.330002     8521300  107.489998  110.870003   \n",
       "8     41.537540           0.0  107.410004     7905000  107.360001  108.339996   \n",
       "9     41.775799           0.0  107.860001     5939000  107.639999  108.500000   \n",
       "10    41.608131           0.0  107.849998     5804600  106.959999  107.959999   \n",
       "\n",
       "     PEP-close  PEP-adjclose  PEP-dividends  \n",
       "0   110.360001     98.551903            0.0  \n",
       "1   110.480003     98.659065            0.0  \n",
       "2   109.279999     97.587456            0.0  \n",
       "3   108.260002     96.676582            0.0  \n",
       "4   110.480003     98.659065            0.0  \n",
       "5   109.529999     97.810692            0.0  \n",
       "6   110.580002     98.748367            0.0  \n",
       "7   107.489998     95.988983            0.0  \n",
       "8   108.150002     96.578362            0.0  \n",
       "9   108.160004     96.587288            0.0  \n",
       "10  107.320000     95.837181            0.0  "
      ]
     },
     "execution_count": 14,
     "metadata": {},
     "output_type": "execute_result"
    }
   ],
   "source": [
    "# We set 1000 trading days\n",
    "data = get_data(ticker_list, 1000)\n",
    "data.head(11)"
   ]
  },
  {
   "cell_type": "code",
   "execution_count": 15,
   "metadata": {},
   "outputs": [
    {
     "data": {
      "text/html": [
       "<div>\n",
       "<style scoped>\n",
       "    .dataframe tbody tr th:only-of-type {\n",
       "        vertical-align: middle;\n",
       "    }\n",
       "\n",
       "    .dataframe tbody tr th {\n",
       "        vertical-align: top;\n",
       "    }\n",
       "\n",
       "    .dataframe thead th {\n",
       "        text-align: right;\n",
       "    }\n",
       "</style>\n",
       "<table border=\"1\" class=\"dataframe\">\n",
       "  <thead>\n",
       "    <tr style=\"text-align: right;\">\n",
       "      <th></th>\n",
       "      <th>Date</th>\n",
       "      <th>alpha</th>\n",
       "      <th>Beta</th>\n",
       "      <th>Z_t</th>\n",
       "      <th>Signal</th>\n",
       "    </tr>\n",
       "  </thead>\n",
       "  <tbody>\n",
       "    <tr>\n",
       "      <th>0</th>\n",
       "      <td>2019-03-28</td>\n",
       "      <td>5.368616</td>\n",
       "      <td>-0.356398</td>\n",
       "      <td>1.126967</td>\n",
       "      <td>-1</td>\n",
       "    </tr>\n",
       "    <tr>\n",
       "      <th>1</th>\n",
       "      <td>2019-03-29</td>\n",
       "      <td>5.252169</td>\n",
       "      <td>-0.331091</td>\n",
       "      <td>1.317048</td>\n",
       "      <td>-1</td>\n",
       "    </tr>\n",
       "    <tr>\n",
       "      <th>2</th>\n",
       "      <td>2019-04-01</td>\n",
       "      <td>5.108084</td>\n",
       "      <td>-0.299812</td>\n",
       "      <td>1.032789</td>\n",
       "      <td>-1</td>\n",
       "    </tr>\n",
       "    <tr>\n",
       "      <th>3</th>\n",
       "      <td>2019-04-02</td>\n",
       "      <td>5.032770</td>\n",
       "      <td>-0.283394</td>\n",
       "      <td>0.817351</td>\n",
       "      <td>0</td>\n",
       "    </tr>\n",
       "    <tr>\n",
       "      <th>4</th>\n",
       "      <td>2019-04-03</td>\n",
       "      <td>5.014548</td>\n",
       "      <td>-0.279306</td>\n",
       "      <td>0.469762</td>\n",
       "      <td>0</td>\n",
       "    </tr>\n",
       "    <tr>\n",
       "      <th>...</th>\n",
       "      <td>...</td>\n",
       "      <td>...</td>\n",
       "      <td>...</td>\n",
       "      <td>...</td>\n",
       "      <td>...</td>\n",
       "    </tr>\n",
       "    <tr>\n",
       "      <th>934</th>\n",
       "      <td>2022-12-09</td>\n",
       "      <td>-0.683097</td>\n",
       "      <td>0.921964</td>\n",
       "      <td>0.856229</td>\n",
       "      <td>0</td>\n",
       "    </tr>\n",
       "    <tr>\n",
       "      <th>935</th>\n",
       "      <td>2022-12-12</td>\n",
       "      <td>-0.836860</td>\n",
       "      <td>0.951667</td>\n",
       "      <td>1.142935</td>\n",
       "      <td>-1</td>\n",
       "    </tr>\n",
       "    <tr>\n",
       "      <th>936</th>\n",
       "      <td>2022-12-13</td>\n",
       "      <td>-1.069251</td>\n",
       "      <td>0.996602</td>\n",
       "      <td>1.135446</td>\n",
       "      <td>-1</td>\n",
       "    </tr>\n",
       "    <tr>\n",
       "      <th>937</th>\n",
       "      <td>2022-12-14</td>\n",
       "      <td>-1.274786</td>\n",
       "      <td>1.036330</td>\n",
       "      <td>1.210540</td>\n",
       "      <td>-1</td>\n",
       "    </tr>\n",
       "    <tr>\n",
       "      <th>938</th>\n",
       "      <td>2022-12-15</td>\n",
       "      <td>-1.451810</td>\n",
       "      <td>1.070533</td>\n",
       "      <td>1.361556</td>\n",
       "      <td>-1</td>\n",
       "    </tr>\n",
       "  </tbody>\n",
       "</table>\n",
       "<p>939 rows × 5 columns</p>\n",
       "</div>"
      ],
      "text/plain": [
       "          Date     alpha      Beta       Z_t  Signal\n",
       "0   2019-03-28  5.368616 -0.356398  1.126967      -1\n",
       "1   2019-03-29  5.252169 -0.331091  1.317048      -1\n",
       "2   2019-04-01  5.108084 -0.299812  1.032789      -1\n",
       "3   2019-04-02  5.032770 -0.283394  0.817351       0\n",
       "4   2019-04-03  5.014548 -0.279306  0.469762       0\n",
       "..         ...       ...       ...       ...     ...\n",
       "934 2022-12-09 -0.683097  0.921964  0.856229       0\n",
       "935 2022-12-12 -0.836860  0.951667  1.142935      -1\n",
       "936 2022-12-13 -1.069251  0.996602  1.135446      -1\n",
       "937 2022-12-14 -1.274786  1.036330  1.210540      -1\n",
       "938 2022-12-15 -1.451810  1.070533  1.361556      -1\n",
       "\n",
       "[939 rows x 5 columns]"
      ]
     },
     "execution_count": 15,
     "metadata": {},
     "output_type": "execute_result"
    }
   ],
   "source": [
    "# The \"Signal\" for the \"Date\" is determined by the the Z-score and D_up&D-down result of previous L days.\n",
    "signals_df = produce_signals(data)\n",
    "signals_df"
   ]
  },
  {
   "cell_type": "code",
   "execution_count": 16,
   "metadata": {},
   "outputs": [
    {
     "data": {
      "text/plain": [
       "count    939.000000\n",
       "mean       0.155412\n",
       "std        1.602287\n",
       "min       -6.389332\n",
       "25%       -0.952762\n",
       "50%        0.413091\n",
       "75%        1.176656\n",
       "max        7.622879\n",
       "Name: Z_t, dtype: float64"
      ]
     },
     "execution_count": 16,
     "metadata": {},
     "output_type": "execute_result"
    }
   ],
   "source": [
    "signals_df['Z_t'].describe()"
   ]
  },
  {
   "cell_type": "code",
   "execution_count": 17,
   "metadata": {},
   "outputs": [
    {
     "data": {
      "text/plain": [
       "<AxesSubplot:>"
      ]
     },
     "execution_count": 17,
     "metadata": {},
     "output_type": "execute_result"
    },
    {
     "data": {
      "image/png": "[encoded data removed]",
      "text/plain": [
       "<Figure size 432x288 with 1 Axes>"
      ]
     },
     "metadata": {
      "needs_background": "light"
     },
     "output_type": "display_data"
    }
   ],
   "source": [
    "signals_df['Z_t'].plot()"
   ]
  },
  {
   "cell_type": "code",
   "execution_count": 18,
   "metadata": {},
   "outputs": [
    {
     "data": {
      "image/png": "[encoded data removed]",
      "text/plain": [
       "<Figure size 432x288 with 1 Axes>"
      ]
     },
     "metadata": {
      "needs_background": "light"
     },
     "output_type": "display_data"
    }
   ],
   "source": [
    "%matplotlib inline\n",
    "\n",
    "plt.hist(signals_df['Z_t'], density=True, bins=30)  # density=False would make counts\n",
    "plt.ylabel('Probability')\n",
    "plt.xlabel('Data');"
   ]
  },
  {
   "cell_type": "markdown",
   "metadata": {},
   "source": [
    "# Question 3"
   ]
  },
  {
   "cell_type": "markdown",
   "metadata": {},
   "source": [
    "We initialize **L=61, W=7, D_up=1.0, and D_down=1.0**. We have entry threshold D_up and exit threshold D_down. All calculations are operated by functions of **generate_single_signal() and produce_signals()** in Q2. In each interval [t-L, t-1], we compare the values of Z-score and D_up&D-down to determine an optimal trading rule. Then, the rule is applied to the interval [t+1,t+W]. If Z_t > D_up, we will long beta*B(t) and short A(t). If Z_t < D_down, we will long A(t) and short beta*B(t). On the day of t+W, the operation is opposite."
   ]
  },
  {
   "cell_type": "code",
   "execution_count": 19,
   "metadata": {},
   "outputs": [
    {
     "data": {
      "text/html": [
       "<div>\n",
       "<style scoped>\n",
       "    .dataframe tbody tr th:only-of-type {\n",
       "        vertical-align: middle;\n",
       "    }\n",
       "\n",
       "    .dataframe tbody tr th {\n",
       "        vertical-align: top;\n",
       "    }\n",
       "\n",
       "    .dataframe thead th {\n",
       "        text-align: right;\n",
       "    }\n",
       "</style>\n",
       "<table border=\"1\" class=\"dataframe\">\n",
       "  <thead>\n",
       "    <tr style=\"text-align: right;\">\n",
       "      <th></th>\n",
       "      <th>Date</th>\n",
       "      <th>alpha</th>\n",
       "      <th>Beta</th>\n",
       "      <th>Z_t</th>\n",
       "      <th>Signal</th>\n",
       "    </tr>\n",
       "  </thead>\n",
       "  <tbody>\n",
       "    <tr>\n",
       "      <th>0</th>\n",
       "      <td>2019-03-28</td>\n",
       "      <td>5.368616</td>\n",
       "      <td>-0.356398</td>\n",
       "      <td>1.126967</td>\n",
       "      <td>-1</td>\n",
       "    </tr>\n",
       "    <tr>\n",
       "      <th>1</th>\n",
       "      <td>2019-03-29</td>\n",
       "      <td>5.252169</td>\n",
       "      <td>-0.331091</td>\n",
       "      <td>1.317048</td>\n",
       "      <td>-1</td>\n",
       "    </tr>\n",
       "    <tr>\n",
       "      <th>2</th>\n",
       "      <td>2019-04-01</td>\n",
       "      <td>5.108084</td>\n",
       "      <td>-0.299812</td>\n",
       "      <td>1.032789</td>\n",
       "      <td>-1</td>\n",
       "    </tr>\n",
       "    <tr>\n",
       "      <th>3</th>\n",
       "      <td>2019-04-02</td>\n",
       "      <td>5.032770</td>\n",
       "      <td>-0.283394</td>\n",
       "      <td>0.817351</td>\n",
       "      <td>0</td>\n",
       "    </tr>\n",
       "    <tr>\n",
       "      <th>4</th>\n",
       "      <td>2019-04-03</td>\n",
       "      <td>5.014548</td>\n",
       "      <td>-0.279306</td>\n",
       "      <td>0.469762</td>\n",
       "      <td>0</td>\n",
       "    </tr>\n",
       "    <tr>\n",
       "      <th>...</th>\n",
       "      <td>...</td>\n",
       "      <td>...</td>\n",
       "      <td>...</td>\n",
       "      <td>...</td>\n",
       "      <td>...</td>\n",
       "    </tr>\n",
       "    <tr>\n",
       "      <th>934</th>\n",
       "      <td>2022-12-09</td>\n",
       "      <td>-0.683097</td>\n",
       "      <td>0.921964</td>\n",
       "      <td>0.856229</td>\n",
       "      <td>0</td>\n",
       "    </tr>\n",
       "    <tr>\n",
       "      <th>935</th>\n",
       "      <td>2022-12-12</td>\n",
       "      <td>-0.836860</td>\n",
       "      <td>0.951667</td>\n",
       "      <td>1.142935</td>\n",
       "      <td>-1</td>\n",
       "    </tr>\n",
       "    <tr>\n",
       "      <th>936</th>\n",
       "      <td>2022-12-13</td>\n",
       "      <td>-1.069251</td>\n",
       "      <td>0.996602</td>\n",
       "      <td>1.135446</td>\n",
       "      <td>-1</td>\n",
       "    </tr>\n",
       "    <tr>\n",
       "      <th>937</th>\n",
       "      <td>2022-12-14</td>\n",
       "      <td>-1.274786</td>\n",
       "      <td>1.036330</td>\n",
       "      <td>1.210540</td>\n",
       "      <td>-1</td>\n",
       "    </tr>\n",
       "    <tr>\n",
       "      <th>938</th>\n",
       "      <td>2022-12-15</td>\n",
       "      <td>-1.451810</td>\n",
       "      <td>1.070533</td>\n",
       "      <td>1.361556</td>\n",
       "      <td>-1</td>\n",
       "    </tr>\n",
       "  </tbody>\n",
       "</table>\n",
       "<p>939 rows × 5 columns</p>\n",
       "</div>"
      ],
      "text/plain": [
       "          Date     alpha      Beta       Z_t  Signal\n",
       "0   2019-03-28  5.368616 -0.356398  1.126967      -1\n",
       "1   2019-03-29  5.252169 -0.331091  1.317048      -1\n",
       "2   2019-04-01  5.108084 -0.299812  1.032789      -1\n",
       "3   2019-04-02  5.032770 -0.283394  0.817351       0\n",
       "4   2019-04-03  5.014548 -0.279306  0.469762       0\n",
       "..         ...       ...       ...       ...     ...\n",
       "934 2022-12-09 -0.683097  0.921964  0.856229       0\n",
       "935 2022-12-12 -0.836860  0.951667  1.142935      -1\n",
       "936 2022-12-13 -1.069251  0.996602  1.135446      -1\n",
       "937 2022-12-14 -1.274786  1.036330  1.210540      -1\n",
       "938 2022-12-15 -1.451810  1.070533  1.361556      -1\n",
       "\n",
       "[939 rows x 5 columns]"
      ]
     },
     "execution_count": 19,
     "metadata": {},
     "output_type": "execute_result"
    }
   ],
   "source": [
    "signals_df"
   ]
  },
  {
   "cell_type": "code",
   "execution_count": 20,
   "metadata": {},
   "outputs": [
    {
     "data": {
      "text/plain": [
       " 0    430\n",
       "-1    290\n",
       " 1    219\n",
       "Name: Signal, dtype: int64"
      ]
     },
     "execution_count": 20,
     "metadata": {},
     "output_type": "execute_result"
    }
   ],
   "source": [
    "signals_df.Signal.value_counts()"
   ]
  },
  {
   "cell_type": "markdown",
   "metadata": {},
   "source": [
    "# Question 4"
   ]
  },
  {
   "cell_type": "markdown",
   "metadata": {},
   "source": [
    "The function of **back_test()** calculates **cumulative pnl, sharpe ratio and drawdowns** of our strategy."
   ]
  },
  {
   "cell_type": "code",
   "execution_count": 21,
   "metadata": {
    "id": "FTR7lslK7Hwd"
   },
   "outputs": [],
   "source": [
    "# Question 4: drawdowns\n",
    "def calcdrawdown(back_test: pd.DataFrame):\n",
    "    \"\"\"\n",
    "    back_test: pd.DataFrame\n",
    "    # output\n",
    "    MaxDD: float\n",
    "    \"\"\"\n",
    "    back_test = back_test.copy()\n",
    "    back_test['pnl_MAX'] = back_test['pnl'].cummax()\n",
    "    return -max((back_test['pnl_MAX'] - back_test['pnl']) / back_test['pnl_MAX'])"
   ]
  },
  {
   "cell_type": "code",
   "execution_count": 22,
   "metadata": {
    "id": "cxnIO1eZkXcS"
   },
   "outputs": [],
   "source": [
    "def back_test(x, L = 10, W = 2, D_up=100000.0, D_down=90.0):\n",
    "    \"\"\"\n",
    "    x: pd.DataFrame\n",
    "    L: int, training window\n",
    "    W: int, testing/trading window\n",
    "    D_up: float, start point = 1\n",
    "    D_down: float, start point = 1\n",
    "    # output\n",
    "    back_test: pd.DataFrame\n",
    "    drawdown: float\n",
    "    sharpe: float\n",
    "    \"\"\"\n",
    "    cols = [comp + \"-adjclose\" for comp in ticker_list]\n",
    "    signal_raw = produce_signals(x, L, D_up, D_down)\n",
    "    signal = signal_raw.loc[:,['Date','Signal','Beta']]\n",
    "    price = x[cols].iloc[L:, :].copy().reset_index()\n",
    "    back_test = pd.concat([price, signal], axis=1, ignore_index=False)\n",
    "    back_test.drop(columns=['index'], inplace=True)\n",
    "    back_test[cols[0] + '-shifted'] = back_test[cols[0]].shift(-W)\n",
    "    back_test[cols[1] + '-shifted'] = back_test[cols[1]].shift(-W)\n",
    "    back_test['Return'] = - back_test['Signal'] * ((np.log(back_test[cols[0] + '-shifted']) - np.log(back_test[cols[0]])) - \n",
    "                                                   back_test['Beta'] * (np.log(back_test[cols[1] + '-shifted']) - np.log(back_test[cols[1]])))\n",
    "    back_test = back_test.iloc[0::W, :]\n",
    "    \n",
    "    # Question 4: cumulative pnl\n",
    "    back_test['pnl'] = (1 + back_test['Return']).cumprod()\n",
    "    back_test.dropna(inplace=True)\n",
    "\n",
    "    ann_sigma = np.sqrt(252 / W) * back_test['Return'].std()\n",
    "    ann_ret = (back_test['pnl'].iloc[-1] - 1) * (252 / (back_test.shape[0] * W))\n",
    "\n",
    "    drawdown = calcdrawdown(back_test)\n",
    "    # Question 4: sharpe ratio\n",
    "    sharpe = ann_ret / ann_sigma\n",
    "    \n",
    "    return back_test, drawdown, sharpe"
   ]
  },
  {
   "cell_type": "code",
   "execution_count": 23,
   "metadata": {},
   "outputs": [
    {
     "data": {
      "text/html": [
       "<div>\n",
       "<style scoped>\n",
       "    .dataframe tbody tr th:only-of-type {\n",
       "        vertical-align: middle;\n",
       "    }\n",
       "\n",
       "    .dataframe tbody tr th {\n",
       "        vertical-align: top;\n",
       "    }\n",
       "\n",
       "    .dataframe thead th {\n",
       "        text-align: right;\n",
       "    }\n",
       "</style>\n",
       "<table border=\"1\" class=\"dataframe\">\n",
       "  <thead>\n",
       "    <tr style=\"text-align: right;\">\n",
       "      <th></th>\n",
       "      <th>KO-adjclose</th>\n",
       "      <th>PEP-adjclose</th>\n",
       "      <th>Date</th>\n",
       "      <th>Signal</th>\n",
       "      <th>Beta</th>\n",
       "      <th>KO-adjclose-shifted</th>\n",
       "      <th>PEP-adjclose-shifted</th>\n",
       "      <th>Return</th>\n",
       "      <th>pnl</th>\n",
       "    </tr>\n",
       "  </thead>\n",
       "  <tbody>\n",
       "    <tr>\n",
       "      <th>0</th>\n",
       "      <td>41.463970</td>\n",
       "      <td>109.685860</td>\n",
       "      <td>2019-03-28</td>\n",
       "      <td>-1</td>\n",
       "      <td>-0.356398</td>\n",
       "      <td>41.437260</td>\n",
       "      <td>109.829903</td>\n",
       "      <td>-0.000177</td>\n",
       "      <td>0.999823</td>\n",
       "    </tr>\n",
       "    <tr>\n",
       "      <th>7</th>\n",
       "      <td>41.437260</td>\n",
       "      <td>109.829903</td>\n",
       "      <td>2019-04-08</td>\n",
       "      <td>0</td>\n",
       "      <td>-0.249986</td>\n",
       "      <td>42.087090</td>\n",
       "      <td>114.340118</td>\n",
       "      <td>0.000000</td>\n",
       "      <td>0.999823</td>\n",
       "    </tr>\n",
       "    <tr>\n",
       "      <th>14</th>\n",
       "      <td>42.087090</td>\n",
       "      <td>114.340118</td>\n",
       "      <td>2019-04-17</td>\n",
       "      <td>-1</td>\n",
       "      <td>-0.211640</td>\n",
       "      <td>43.101875</td>\n",
       "      <td>114.052063</td>\n",
       "      <td>0.023292</td>\n",
       "      <td>1.023111</td>\n",
       "    </tr>\n",
       "    <tr>\n",
       "      <th>21</th>\n",
       "      <td>43.101875</td>\n",
       "      <td>114.052063</td>\n",
       "      <td>2019-04-29</td>\n",
       "      <td>-1</td>\n",
       "      <td>0.041048</td>\n",
       "      <td>42.594475</td>\n",
       "      <td>113.448875</td>\n",
       "      <td>-0.011624</td>\n",
       "      <td>1.011218</td>\n",
       "    </tr>\n",
       "    <tr>\n",
       "      <th>28</th>\n",
       "      <td>42.594475</td>\n",
       "      <td>113.448875</td>\n",
       "      <td>2019-05-08</td>\n",
       "      <td>0</td>\n",
       "      <td>0.419463</td>\n",
       "      <td>43.796204</td>\n",
       "      <td>117.490974</td>\n",
       "      <td>0.000000</td>\n",
       "      <td>1.011218</td>\n",
       "    </tr>\n",
       "    <tr>\n",
       "      <th>...</th>\n",
       "      <td>...</td>\n",
       "      <td>...</td>\n",
       "      <td>...</td>\n",
       "      <td>...</td>\n",
       "      <td>...</td>\n",
       "      <td>...</td>\n",
       "      <td>...</td>\n",
       "      <td>...</td>\n",
       "      <td>...</td>\n",
       "    </tr>\n",
       "    <tr>\n",
       "      <th>903</th>\n",
       "      <td>58.971760</td>\n",
       "      <td>177.959930</td>\n",
       "      <td>2022-10-26</td>\n",
       "      <td>1</td>\n",
       "      <td>1.439349</td>\n",
       "      <td>58.842674</td>\n",
       "      <td>177.671722</td>\n",
       "      <td>-0.000142</td>\n",
       "      <td>1.630911</td>\n",
       "    </tr>\n",
       "    <tr>\n",
       "      <th>910</th>\n",
       "      <td>58.842674</td>\n",
       "      <td>177.671722</td>\n",
       "      <td>2022-11-04</td>\n",
       "      <td>0</td>\n",
       "      <td>1.031324</td>\n",
       "      <td>60.203030</td>\n",
       "      <td>176.091583</td>\n",
       "      <td>0.000000</td>\n",
       "      <td>1.630911</td>\n",
       "    </tr>\n",
       "    <tr>\n",
       "      <th>917</th>\n",
       "      <td>60.203030</td>\n",
       "      <td>176.091583</td>\n",
       "      <td>2022-11-15</td>\n",
       "      <td>0</td>\n",
       "      <td>0.766937</td>\n",
       "      <td>62.248520</td>\n",
       "      <td>182.968674</td>\n",
       "      <td>0.000000</td>\n",
       "      <td>1.630911</td>\n",
       "    </tr>\n",
       "    <tr>\n",
       "      <th>924</th>\n",
       "      <td>62.248520</td>\n",
       "      <td>182.968674</td>\n",
       "      <td>2022-11-25</td>\n",
       "      <td>0</td>\n",
       "      <td>0.661175</td>\n",
       "      <td>63.439999</td>\n",
       "      <td>181.630005</td>\n",
       "      <td>0.000000</td>\n",
       "      <td>1.630911</td>\n",
       "    </tr>\n",
       "    <tr>\n",
       "      <th>931</th>\n",
       "      <td>63.439999</td>\n",
       "      <td>181.630005</td>\n",
       "      <td>2022-12-06</td>\n",
       "      <td>-1</td>\n",
       "      <td>0.843878</td>\n",
       "      <td>63.110001</td>\n",
       "      <td>180.250000</td>\n",
       "      <td>0.001221</td>\n",
       "      <td>1.632902</td>\n",
       "    </tr>\n",
       "  </tbody>\n",
       "</table>\n",
       "<p>134 rows × 9 columns</p>\n",
       "</div>"
      ],
      "text/plain": [
       "     KO-adjclose  PEP-adjclose       Date  Signal      Beta  \\\n",
       "0      41.463970    109.685860 2019-03-28      -1 -0.356398   \n",
       "7      41.437260    109.829903 2019-04-08       0 -0.249986   \n",
       "14     42.087090    114.340118 2019-04-17      -1 -0.211640   \n",
       "21     43.101875    114.052063 2019-04-29      -1  0.041048   \n",
       "28     42.594475    113.448875 2019-05-08       0  0.419463   \n",
       "..           ...           ...        ...     ...       ...   \n",
       "903    58.971760    177.959930 2022-10-26       1  1.439349   \n",
       "910    58.842674    177.671722 2022-11-04       0  1.031324   \n",
       "917    60.203030    176.091583 2022-11-15       0  0.766937   \n",
       "924    62.248520    182.968674 2022-11-25       0  0.661175   \n",
       "931    63.439999    181.630005 2022-12-06      -1  0.843878   \n",
       "\n",
       "     KO-adjclose-shifted  PEP-adjclose-shifted    Return       pnl  \n",
       "0              41.437260            109.829903 -0.000177  0.999823  \n",
       "7              42.087090            114.340118  0.000000  0.999823  \n",
       "14             43.101875            114.052063  0.023292  1.023111  \n",
       "21             42.594475            113.448875 -0.011624  1.011218  \n",
       "28             43.796204            117.490974  0.000000  1.011218  \n",
       "..                   ...                   ...       ...       ...  \n",
       "903            58.842674            177.671722 -0.000142  1.630911  \n",
       "910            60.203030            176.091583  0.000000  1.630911  \n",
       "917            62.248520            182.968674  0.000000  1.630911  \n",
       "924            63.439999            181.630005  0.000000  1.630911  \n",
       "931            63.110001            180.250000  0.001221  1.632902  \n",
       "\n",
       "[134 rows x 9 columns]"
      ]
     },
     "execution_count": 23,
     "metadata": {},
     "output_type": "execute_result"
    }
   ],
   "source": [
    "q4_cumu_pnl,dd,sharpe = back_test(data,61,7,0.95,1.35)\n",
    "q4_cumu_pnl"
   ]
  },
  {
   "cell_type": "code",
   "execution_count": 24,
   "metadata": {},
   "outputs": [
    {
     "name": "stdout",
     "output_type": "stream",
     "text": [
      "When L = 10, W = 2, for PEP and KO, our strategy sharpe ratio is 1.7273609257974805 and drawdown is -0.13073633909379198\n"
     ]
    }
   ],
   "source": [
    "print('When L = 10, W = 2, for PEP and KO, our strategy sharpe ratio is {} and drawdown is {}'.format(sharpe,dd))"
   ]
  },
  {
   "cell_type": "markdown",
   "metadata": {},
   "source": [
    "# Question 5"
   ]
  },
  {
   "cell_type": "markdown",
   "metadata": {},
   "source": [
    "To explore the sensitivity, we tuned 4 parameters here, including training window (L), testing window (W), optimal exit (D_up) and optimal entry (D_down). "
   ]
  },
  {
   "cell_type": "markdown",
   "metadata": {},
   "source": [
    "## Sensitivity of Sharpe Ratio with Respect to L"
   ]
  },
  {
   "cell_type": "code",
   "execution_count": 25,
   "metadata": {
    "id": "ZBkj56jGwK_Q"
   },
   "outputs": [],
   "source": [
    "def tune_hyper_L(x: pd.DataFrame):\n",
    "    \"\"\"\n",
    "    x: pd.DataFrame\n",
    "    # output\n",
    "    tunning_result: pd.DataFrame\n",
    "    \"\"\"\n",
    "    L_list = [20,25,30,35,40,45,50,55,60,61,62,63,64,65,66,67,68,69,70,75,80,85,90,95,100]\n",
    "    W = 7\n",
    "    D_up = 0.95\n",
    "    D_down = 1.35\n",
    "\n",
    "    return pd.DataFrame([[L, \n",
    "                          back_test(x, L, W, D_up, D_down)[0]['pnl'].iloc[-1], \n",
    "                          back_test(x, L, W, D_up, D_down)[1],\n",
    "                          back_test(x, L, W, D_up, D_down)[2]]\n",
    "                         for L in L_list], \n",
    "                 columns=['L', 'pnl', 'drawdown', 'sharpe'])"
   ]
  },
  {
   "cell_type": "code",
   "execution_count": 26,
   "metadata": {
    "colab": {
     "base_uri": "https://localhost:8080/",
     "height": 445
    },
    "id": "8jQjEpy1yAtF",
    "outputId": "1e358c08-b1e6-4959-f9ab-8da5ca4eec6a",
    "scrolled": true
   },
   "outputs": [],
   "source": [
    "df_L = tune_hyper_L(data)\n",
    "df_L_sort = df_L.sort_values(by=['sharpe'], ascending=False)"
   ]
  },
  {
   "cell_type": "code",
   "execution_count": 27,
   "metadata": {},
   "outputs": [
    {
     "data": {
      "text/html": [
       "<div>\n",
       "<style scoped>\n",
       "    .dataframe tbody tr th:only-of-type {\n",
       "        vertical-align: middle;\n",
       "    }\n",
       "\n",
       "    .dataframe tbody tr th {\n",
       "        vertical-align: top;\n",
       "    }\n",
       "\n",
       "    .dataframe thead th {\n",
       "        text-align: right;\n",
       "    }\n",
       "</style>\n",
       "<table border=\"1\" class=\"dataframe\">\n",
       "  <thead>\n",
       "    <tr style=\"text-align: right;\">\n",
       "      <th></th>\n",
       "      <th>L</th>\n",
       "      <th>pnl</th>\n",
       "      <th>drawdown</th>\n",
       "      <th>sharpe</th>\n",
       "    </tr>\n",
       "  </thead>\n",
       "  <tbody>\n",
       "    <tr>\n",
       "      <th>9</th>\n",
       "      <td>61</td>\n",
       "      <td>1.632902</td>\n",
       "      <td>-0.130736</td>\n",
       "      <td>1.727361</td>\n",
       "    </tr>\n",
       "    <tr>\n",
       "      <th>16</th>\n",
       "      <td>68</td>\n",
       "      <td>1.573332</td>\n",
       "      <td>-0.093845</td>\n",
       "      <td>1.625848</td>\n",
       "    </tr>\n",
       "    <tr>\n",
       "      <th>19</th>\n",
       "      <td>75</td>\n",
       "      <td>1.409842</td>\n",
       "      <td>-0.101768</td>\n",
       "      <td>1.171783</td>\n",
       "    </tr>\n",
       "    <tr>\n",
       "      <th>11</th>\n",
       "      <td>63</td>\n",
       "      <td>1.430376</td>\n",
       "      <td>-0.143282</td>\n",
       "      <td>1.058073</td>\n",
       "    </tr>\n",
       "    <tr>\n",
       "      <th>18</th>\n",
       "      <td>70</td>\n",
       "      <td>1.394007</td>\n",
       "      <td>-0.144072</td>\n",
       "      <td>1.017767</td>\n",
       "    </tr>\n",
       "    <tr>\n",
       "      <th>17</th>\n",
       "      <td>69</td>\n",
       "      <td>1.361068</td>\n",
       "      <td>-0.101756</td>\n",
       "      <td>0.972224</td>\n",
       "    </tr>\n",
       "    <tr>\n",
       "      <th>10</th>\n",
       "      <td>62</td>\n",
       "      <td>1.335926</td>\n",
       "      <td>-0.150893</td>\n",
       "      <td>0.865040</td>\n",
       "    </tr>\n",
       "    <tr>\n",
       "      <th>8</th>\n",
       "      <td>60</td>\n",
       "      <td>1.345671</td>\n",
       "      <td>-0.185586</td>\n",
       "      <td>0.779491</td>\n",
       "    </tr>\n",
       "    <tr>\n",
       "      <th>15</th>\n",
       "      <td>67</td>\n",
       "      <td>1.344184</td>\n",
       "      <td>-0.183800</td>\n",
       "      <td>0.769278</td>\n",
       "    </tr>\n",
       "    <tr>\n",
       "      <th>22</th>\n",
       "      <td>90</td>\n",
       "      <td>1.181191</td>\n",
       "      <td>-0.094236</td>\n",
       "      <td>0.540233</td>\n",
       "    </tr>\n",
       "    <tr>\n",
       "      <th>23</th>\n",
       "      <td>95</td>\n",
       "      <td>1.240269</td>\n",
       "      <td>-0.189831</td>\n",
       "      <td>0.529120</td>\n",
       "    </tr>\n",
       "    <tr>\n",
       "      <th>12</th>\n",
       "      <td>64</td>\n",
       "      <td>1.233488</td>\n",
       "      <td>-0.200509</td>\n",
       "      <td>0.488451</td>\n",
       "    </tr>\n",
       "    <tr>\n",
       "      <th>7</th>\n",
       "      <td>55</td>\n",
       "      <td>1.188359</td>\n",
       "      <td>-0.162775</td>\n",
       "      <td>0.455973</td>\n",
       "    </tr>\n",
       "    <tr>\n",
       "      <th>4</th>\n",
       "      <td>40</td>\n",
       "      <td>1.177521</td>\n",
       "      <td>-0.150858</td>\n",
       "      <td>0.406781</td>\n",
       "    </tr>\n",
       "    <tr>\n",
       "      <th>13</th>\n",
       "      <td>65</td>\n",
       "      <td>1.167476</td>\n",
       "      <td>-0.210638</td>\n",
       "      <td>0.391228</td>\n",
       "    </tr>\n",
       "    <tr>\n",
       "      <th>24</th>\n",
       "      <td>100</td>\n",
       "      <td>1.140609</td>\n",
       "      <td>-0.210022</td>\n",
       "      <td>0.351490</td>\n",
       "    </tr>\n",
       "    <tr>\n",
       "      <th>3</th>\n",
       "      <td>35</td>\n",
       "      <td>1.123992</td>\n",
       "      <td>-0.146402</td>\n",
       "      <td>0.329410</td>\n",
       "    </tr>\n",
       "    <tr>\n",
       "      <th>6</th>\n",
       "      <td>50</td>\n",
       "      <td>1.152071</td>\n",
       "      <td>-0.150718</td>\n",
       "      <td>0.303802</td>\n",
       "    </tr>\n",
       "    <tr>\n",
       "      <th>1</th>\n",
       "      <td>25</td>\n",
       "      <td>1.083534</td>\n",
       "      <td>-0.149532</td>\n",
       "      <td>0.164545</td>\n",
       "    </tr>\n",
       "    <tr>\n",
       "      <th>21</th>\n",
       "      <td>85</td>\n",
       "      <td>1.038741</td>\n",
       "      <td>-0.204621</td>\n",
       "      <td>0.090910</td>\n",
       "    </tr>\n",
       "    <tr>\n",
       "      <th>5</th>\n",
       "      <td>45</td>\n",
       "      <td>1.031518</td>\n",
       "      <td>-0.227029</td>\n",
       "      <td>0.069324</td>\n",
       "    </tr>\n",
       "    <tr>\n",
       "      <th>20</th>\n",
       "      <td>80</td>\n",
       "      <td>0.985331</td>\n",
       "      <td>-0.253274</td>\n",
       "      <td>-0.033636</td>\n",
       "    </tr>\n",
       "    <tr>\n",
       "      <th>2</th>\n",
       "      <td>30</td>\n",
       "      <td>0.973361</td>\n",
       "      <td>-0.258413</td>\n",
       "      <td>-0.058280</td>\n",
       "    </tr>\n",
       "    <tr>\n",
       "      <th>14</th>\n",
       "      <td>66</td>\n",
       "      <td>0.928168</td>\n",
       "      <td>-0.257000</td>\n",
       "      <td>-0.169008</td>\n",
       "    </tr>\n",
       "    <tr>\n",
       "      <th>0</th>\n",
       "      <td>20</td>\n",
       "      <td>0.869180</td>\n",
       "      <td>-0.172629</td>\n",
       "      <td>-0.278489</td>\n",
       "    </tr>\n",
       "  </tbody>\n",
       "</table>\n",
       "</div>"
      ],
      "text/plain": [
       "      L       pnl  drawdown    sharpe\n",
       "9    61  1.632902 -0.130736  1.727361\n",
       "16   68  1.573332 -0.093845  1.625848\n",
       "19   75  1.409842 -0.101768  1.171783\n",
       "11   63  1.430376 -0.143282  1.058073\n",
       "18   70  1.394007 -0.144072  1.017767\n",
       "17   69  1.361068 -0.101756  0.972224\n",
       "10   62  1.335926 -0.150893  0.865040\n",
       "8    60  1.345671 -0.185586  0.779491\n",
       "15   67  1.344184 -0.183800  0.769278\n",
       "22   90  1.181191 -0.094236  0.540233\n",
       "23   95  1.240269 -0.189831  0.529120\n",
       "12   64  1.233488 -0.200509  0.488451\n",
       "7    55  1.188359 -0.162775  0.455973\n",
       "4    40  1.177521 -0.150858  0.406781\n",
       "13   65  1.167476 -0.210638  0.391228\n",
       "24  100  1.140609 -0.210022  0.351490\n",
       "3    35  1.123992 -0.146402  0.329410\n",
       "6    50  1.152071 -0.150718  0.303802\n",
       "1    25  1.083534 -0.149532  0.164545\n",
       "21   85  1.038741 -0.204621  0.090910\n",
       "5    45  1.031518 -0.227029  0.069324\n",
       "20   80  0.985331 -0.253274 -0.033636\n",
       "2    30  0.973361 -0.258413 -0.058280\n",
       "14   66  0.928168 -0.257000 -0.169008\n",
       "0    20  0.869180 -0.172629 -0.278489"
      ]
     },
     "execution_count": 27,
     "metadata": {},
     "output_type": "execute_result"
    }
   ],
   "source": [
    "df_L_sort"
   ]
  },
  {
   "cell_type": "code",
   "execution_count": 28,
   "metadata": {},
   "outputs": [
    {
     "data": {
      "text/plain": [
       "Text(0, 0.5, 'sharpe ratio')"
      ]
     },
     "execution_count": 28,
     "metadata": {},
     "output_type": "execute_result"
    },
    {
     "data": {
      "image/png": "[encoded data removed]",
      "text/plain": [
       "<Figure size 432x288 with 1 Axes>"
      ]
     },
     "metadata": {
      "needs_background": "light"
     },
     "output_type": "display_data"
    }
   ],
   "source": [
    "plt.plot(df_L.L,df_L.sharpe)\n",
    "plt.xlabel('L')\n",
    "plt.ylabel('sharpe ratio')"
   ]
  },
  {
   "cell_type": "markdown",
   "metadata": {},
   "source": [
    "We fixed W = 7, D_up = 0.95 and D_down = 1.35, and set L's range as [20,100]. We got the optimal sharpe ratio at 1.727361 when L = 61. We found that when L changes between 20 to 100, the corresponding sharpe ratio changes between -0.25 to 1.75."
   ]
  },
  {
   "cell_type": "markdown",
   "metadata": {},
   "source": [
    "## Sensitivity of Sharpe Ratio with Respect to W"
   ]
  },
  {
   "cell_type": "code",
   "execution_count": 29,
   "metadata": {},
   "outputs": [],
   "source": [
    "def tune_hyper_W(x: pd.DataFrame):\n",
    "    \"\"\"\n",
    "    x: pd.DataFrame\n",
    "    # output\n",
    "    tunning_result: pd.DataFrame\n",
    "    \"\"\"\n",
    "    L = 61\n",
    "    W_list = [1,2,3,4,5,6,7,8,9,10,11,15,17]\n",
    "    D_up = 0.95\n",
    "    D_down = 1.35\n",
    "\n",
    "    return pd.DataFrame([[W, \n",
    "                          back_test(x, L, W, D_up, D_down)[0]['pnl'].iloc[-1], \n",
    "                          back_test(x, L, W, D_up, D_down)[1],\n",
    "                          back_test(x, L, W, D_up, D_down)[2]]\n",
    "                         for W in W_list], \n",
    "                 columns=['W', 'pnl', 'drawdown', 'sharpe'])"
   ]
  },
  {
   "cell_type": "code",
   "execution_count": 30,
   "metadata": {},
   "outputs": [],
   "source": [
    "df_W = tune_hyper_W(data)\n",
    "df_W_sort = df_W.sort_values(by=['sharpe'], ascending=False)"
   ]
  },
  {
   "cell_type": "code",
   "execution_count": 31,
   "metadata": {},
   "outputs": [
    {
     "data": {
      "text/html": [
       "<div>\n",
       "<style scoped>\n",
       "    .dataframe tbody tr th:only-of-type {\n",
       "        vertical-align: middle;\n",
       "    }\n",
       "\n",
       "    .dataframe tbody tr th {\n",
       "        vertical-align: top;\n",
       "    }\n",
       "\n",
       "    .dataframe thead th {\n",
       "        text-align: right;\n",
       "    }\n",
       "</style>\n",
       "<table border=\"1\" class=\"dataframe\">\n",
       "  <thead>\n",
       "    <tr style=\"text-align: right;\">\n",
       "      <th></th>\n",
       "      <th>W</th>\n",
       "      <th>pnl</th>\n",
       "      <th>drawdown</th>\n",
       "      <th>sharpe</th>\n",
       "    </tr>\n",
       "  </thead>\n",
       "  <tbody>\n",
       "    <tr>\n",
       "      <th>6</th>\n",
       "      <td>7</td>\n",
       "      <td>1.632902</td>\n",
       "      <td>-0.130736</td>\n",
       "      <td>1.727361</td>\n",
       "    </tr>\n",
       "    <tr>\n",
       "      <th>10</th>\n",
       "      <td>11</td>\n",
       "      <td>1.717032</td>\n",
       "      <td>-0.118600</td>\n",
       "      <td>1.538022</td>\n",
       "    </tr>\n",
       "    <tr>\n",
       "      <th>7</th>\n",
       "      <td>8</td>\n",
       "      <td>1.409373</td>\n",
       "      <td>-0.071116</td>\n",
       "      <td>1.125050</td>\n",
       "    </tr>\n",
       "    <tr>\n",
       "      <th>12</th>\n",
       "      <td>17</td>\n",
       "      <td>1.224344</td>\n",
       "      <td>-0.212447</td>\n",
       "      <td>0.533910</td>\n",
       "    </tr>\n",
       "    <tr>\n",
       "      <th>3</th>\n",
       "      <td>4</td>\n",
       "      <td>1.210032</td>\n",
       "      <td>-0.181344</td>\n",
       "      <td>0.492615</td>\n",
       "    </tr>\n",
       "    <tr>\n",
       "      <th>9</th>\n",
       "      <td>10</td>\n",
       "      <td>1.146285</td>\n",
       "      <td>-0.163459</td>\n",
       "      <td>0.440176</td>\n",
       "    </tr>\n",
       "    <tr>\n",
       "      <th>8</th>\n",
       "      <td>9</td>\n",
       "      <td>1.173617</td>\n",
       "      <td>-0.151694</td>\n",
       "      <td>0.437408</td>\n",
       "    </tr>\n",
       "    <tr>\n",
       "      <th>5</th>\n",
       "      <td>6</td>\n",
       "      <td>1.116391</td>\n",
       "      <td>-0.139018</td>\n",
       "      <td>0.301242</td>\n",
       "    </tr>\n",
       "    <tr>\n",
       "      <th>1</th>\n",
       "      <td>2</td>\n",
       "      <td>1.085076</td>\n",
       "      <td>-0.208919</td>\n",
       "      <td>0.179774</td>\n",
       "    </tr>\n",
       "    <tr>\n",
       "      <th>4</th>\n",
       "      <td>5</td>\n",
       "      <td>0.998813</td>\n",
       "      <td>-0.270615</td>\n",
       "      <td>-0.002988</td>\n",
       "    </tr>\n",
       "    <tr>\n",
       "      <th>2</th>\n",
       "      <td>3</td>\n",
       "      <td>0.949096</td>\n",
       "      <td>-0.249307</td>\n",
       "      <td>-0.105834</td>\n",
       "    </tr>\n",
       "    <tr>\n",
       "      <th>0</th>\n",
       "      <td>1</td>\n",
       "      <td>0.858156</td>\n",
       "      <td>-0.375860</td>\n",
       "      <td>-0.244596</td>\n",
       "    </tr>\n",
       "    <tr>\n",
       "      <th>11</th>\n",
       "      <td>15</td>\n",
       "      <td>0.860779</td>\n",
       "      <td>-0.341753</td>\n",
       "      <td>-0.285420</td>\n",
       "    </tr>\n",
       "  </tbody>\n",
       "</table>\n",
       "</div>"
      ],
      "text/plain": [
       "     W       pnl  drawdown    sharpe\n",
       "6    7  1.632902 -0.130736  1.727361\n",
       "10  11  1.717032 -0.118600  1.538022\n",
       "7    8  1.409373 -0.071116  1.125050\n",
       "12  17  1.224344 -0.212447  0.533910\n",
       "3    4  1.210032 -0.181344  0.492615\n",
       "9   10  1.146285 -0.163459  0.440176\n",
       "8    9  1.173617 -0.151694  0.437408\n",
       "5    6  1.116391 -0.139018  0.301242\n",
       "1    2  1.085076 -0.208919  0.179774\n",
       "4    5  0.998813 -0.270615 -0.002988\n",
       "2    3  0.949096 -0.249307 -0.105834\n",
       "0    1  0.858156 -0.375860 -0.244596\n",
       "11  15  0.860779 -0.341753 -0.285420"
      ]
     },
     "execution_count": 31,
     "metadata": {},
     "output_type": "execute_result"
    }
   ],
   "source": [
    "df_W_sort"
   ]
  },
  {
   "cell_type": "code",
   "execution_count": 32,
   "metadata": {},
   "outputs": [
    {
     "data": {
      "text/plain": [
       "Text(0, 0.5, 'sharpe ratio')"
      ]
     },
     "execution_count": 32,
     "metadata": {},
     "output_type": "execute_result"
    },
    {
     "data": {
      "image/png": "[encoded data removed]",
      "text/plain": [
       "<Figure size 432x288 with 1 Axes>"
      ]
     },
     "metadata": {
      "needs_background": "light"
     },
     "output_type": "display_data"
    }
   ],
   "source": [
    "plt.plot(df_W.W,df_W.sharpe)\n",
    "plt.xlabel('W')\n",
    "plt.ylabel('sharpe ratio')"
   ]
  },
  {
   "cell_type": "markdown",
   "metadata": {},
   "source": [
    "We fixed L = 61, D_up = 0.95 and D_down = 1.35, and set W's range as [1,17]. We got the optimal sharpe ratio at 1.727361 when W = 7. We found that when W changes between 1 to 17, the corresponding sharpe ratio changes between -0.25 to 1.75. Comparing with the result above, sharpe ratio is more sensitive to W than L."
   ]
  },
  {
   "cell_type": "markdown",
   "metadata": {},
   "source": [
    "## Sensitivity of Sharpe Ratio with Respect to D_up"
   ]
  },
  {
   "cell_type": "code",
   "execution_count": 33,
   "metadata": {},
   "outputs": [],
   "source": [
    "def tune_hyper_up(x: pd.DataFrame):\n",
    "    \"\"\"\n",
    "    x: pd.DataFrame\n",
    "    # output\n",
    "    tunning_result: pd.DataFrame\n",
    "    \"\"\"\n",
    "    L = 61\n",
    "    W = 7\n",
    "    D_up_list = [0.4,0.5,0.6,0.7,0.8,0.9,0.92,0.93,0.95,0.97,1.0,1.2,1.4,1.5,1.7,1.9]\n",
    "    D_down = 1.35\n",
    "\n",
    "    return pd.DataFrame([[D_up, \n",
    "                          back_test(x, L, W, D_up, D_down)[0]['pnl'].iloc[-1], \n",
    "                          back_test(x, L, W, D_up, D_down)[1],\n",
    "                          back_test(x, L, W, D_up, D_down)[2]]\n",
    "                         for D_up in D_up_list], \n",
    "                 columns=['D_up', 'pnl', 'drawdown', 'sharpe'])"
   ]
  },
  {
   "cell_type": "code",
   "execution_count": 34,
   "metadata": {},
   "outputs": [],
   "source": [
    "df_up = tune_hyper_up(data)\n",
    "df_up_sort = df_up.sort_values(by=['sharpe'], ascending=False)"
   ]
  },
  {
   "cell_type": "code",
   "execution_count": 35,
   "metadata": {},
   "outputs": [
    {
     "data": {
      "text/html": [
       "<div>\n",
       "<style scoped>\n",
       "    .dataframe tbody tr th:only-of-type {\n",
       "        vertical-align: middle;\n",
       "    }\n",
       "\n",
       "    .dataframe tbody tr th {\n",
       "        vertical-align: top;\n",
       "    }\n",
       "\n",
       "    .dataframe thead th {\n",
       "        text-align: right;\n",
       "    }\n",
       "</style>\n",
       "<table border=\"1\" class=\"dataframe\">\n",
       "  <thead>\n",
       "    <tr style=\"text-align: right;\">\n",
       "      <th></th>\n",
       "      <th>D_up</th>\n",
       "      <th>pnl</th>\n",
       "      <th>drawdown</th>\n",
       "      <th>sharpe</th>\n",
       "    </tr>\n",
       "  </thead>\n",
       "  <tbody>\n",
       "    <tr>\n",
       "      <th>2</th>\n",
       "      <td>0.60</td>\n",
       "      <td>1.738184</td>\n",
       "      <td>-0.125777</td>\n",
       "      <td>1.913736</td>\n",
       "    </tr>\n",
       "    <tr>\n",
       "      <th>1</th>\n",
       "      <td>0.50</td>\n",
       "      <td>1.735486</td>\n",
       "      <td>-0.125777</td>\n",
       "      <td>1.905821</td>\n",
       "    </tr>\n",
       "    <tr>\n",
       "      <th>5</th>\n",
       "      <td>0.90</td>\n",
       "      <td>1.651804</td>\n",
       "      <td>-0.130736</td>\n",
       "      <td>1.776584</td>\n",
       "    </tr>\n",
       "    <tr>\n",
       "      <th>8</th>\n",
       "      <td>0.95</td>\n",
       "      <td>1.632902</td>\n",
       "      <td>-0.130736</td>\n",
       "      <td>1.727361</td>\n",
       "    </tr>\n",
       "    <tr>\n",
       "      <th>9</th>\n",
       "      <td>0.97</td>\n",
       "      <td>1.632902</td>\n",
       "      <td>-0.130736</td>\n",
       "      <td>1.727361</td>\n",
       "    </tr>\n",
       "    <tr>\n",
       "      <th>6</th>\n",
       "      <td>0.92</td>\n",
       "      <td>1.629874</td>\n",
       "      <td>-0.130736</td>\n",
       "      <td>1.718674</td>\n",
       "    </tr>\n",
       "    <tr>\n",
       "      <th>7</th>\n",
       "      <td>0.93</td>\n",
       "      <td>1.629874</td>\n",
       "      <td>-0.130736</td>\n",
       "      <td>1.718674</td>\n",
       "    </tr>\n",
       "    <tr>\n",
       "      <th>3</th>\n",
       "      <td>0.70</td>\n",
       "      <td>1.648194</td>\n",
       "      <td>-0.125777</td>\n",
       "      <td>1.697603</td>\n",
       "    </tr>\n",
       "    <tr>\n",
       "      <th>10</th>\n",
       "      <td>1.00</td>\n",
       "      <td>1.614953</td>\n",
       "      <td>-0.130736</td>\n",
       "      <td>1.679311</td>\n",
       "    </tr>\n",
       "    <tr>\n",
       "      <th>11</th>\n",
       "      <td>1.20</td>\n",
       "      <td>1.577650</td>\n",
       "      <td>-0.125777</td>\n",
       "      <td>1.596814</td>\n",
       "    </tr>\n",
       "    <tr>\n",
       "      <th>0</th>\n",
       "      <td>0.40</td>\n",
       "      <td>1.638922</td>\n",
       "      <td>-0.196504</td>\n",
       "      <td>1.562003</td>\n",
       "    </tr>\n",
       "    <tr>\n",
       "      <th>4</th>\n",
       "      <td>0.80</td>\n",
       "      <td>1.582055</td>\n",
       "      <td>-0.130736</td>\n",
       "      <td>1.545518</td>\n",
       "    </tr>\n",
       "    <tr>\n",
       "      <th>15</th>\n",
       "      <td>1.90</td>\n",
       "      <td>1.430650</td>\n",
       "      <td>-0.073347</td>\n",
       "      <td>1.414926</td>\n",
       "    </tr>\n",
       "    <tr>\n",
       "      <th>12</th>\n",
       "      <td>1.40</td>\n",
       "      <td>1.403926</td>\n",
       "      <td>-0.125777</td>\n",
       "      <td>1.215399</td>\n",
       "    </tr>\n",
       "    <tr>\n",
       "      <th>13</th>\n",
       "      <td>1.50</td>\n",
       "      <td>1.399632</td>\n",
       "      <td>-0.125777</td>\n",
       "      <td>1.205186</td>\n",
       "    </tr>\n",
       "    <tr>\n",
       "      <th>14</th>\n",
       "      <td>1.70</td>\n",
       "      <td>1.365063</td>\n",
       "      <td>-0.125777</td>\n",
       "      <td>1.105186</td>\n",
       "    </tr>\n",
       "  </tbody>\n",
       "</table>\n",
       "</div>"
      ],
      "text/plain": [
       "    D_up       pnl  drawdown    sharpe\n",
       "2   0.60  1.738184 -0.125777  1.913736\n",
       "1   0.50  1.735486 -0.125777  1.905821\n",
       "5   0.90  1.651804 -0.130736  1.776584\n",
       "8   0.95  1.632902 -0.130736  1.727361\n",
       "9   0.97  1.632902 -0.130736  1.727361\n",
       "6   0.92  1.629874 -0.130736  1.718674\n",
       "7   0.93  1.629874 -0.130736  1.718674\n",
       "3   0.70  1.648194 -0.125777  1.697603\n",
       "10  1.00  1.614953 -0.130736  1.679311\n",
       "11  1.20  1.577650 -0.125777  1.596814\n",
       "0   0.40  1.638922 -0.196504  1.562003\n",
       "4   0.80  1.582055 -0.130736  1.545518\n",
       "15  1.90  1.430650 -0.073347  1.414926\n",
       "12  1.40  1.403926 -0.125777  1.215399\n",
       "13  1.50  1.399632 -0.125777  1.205186\n",
       "14  1.70  1.365063 -0.125777  1.105186"
      ]
     },
     "execution_count": 35,
     "metadata": {},
     "output_type": "execute_result"
    }
   ],
   "source": [
    "df_up_sort"
   ]
  },
  {
   "cell_type": "code",
   "execution_count": 36,
   "metadata": {},
   "outputs": [
    {
     "data": {
      "text/plain": [
       "Text(0, 0.5, 'sharpe ratio')"
      ]
     },
     "execution_count": 36,
     "metadata": {},
     "output_type": "execute_result"
    },
    {
     "data": {
      "image/png": "[encoded data removed]",
      "text/plain": [
       "<Figure size 432x288 with 1 Axes>"
      ]
     },
     "metadata": {
      "needs_background": "light"
     },
     "output_type": "display_data"
    }
   ],
   "source": [
    "plt.plot(df_up.D_up,df_up.sharpe)\n",
    "plt.xlabel('D_up')\n",
    "plt.ylabel('sharpe ratio')"
   ]
  },
  {
   "cell_type": "markdown",
   "metadata": {},
   "source": [
    "We fixed L = 61, W = 7 and D_down = 1.35, and set D_up's range as [0.40,1.90]. We got the optimal sharpe ratio at 1.913736 when D_up = 0.60. We found that when D_up changes between 0.40 to 1.90, the corresponding sharpe ratio changes between 1.10 to 1.90."
   ]
  },
  {
   "cell_type": "markdown",
   "metadata": {},
   "source": [
    "## Sensitivity of Sharpe Ratio with Respect to D_down"
   ]
  },
  {
   "cell_type": "code",
   "execution_count": 37,
   "metadata": {},
   "outputs": [],
   "source": [
    "def tune_hyper_down(x: pd.DataFrame):\n",
    "    \"\"\"\n",
    "    x: pd.DataFrame\n",
    "    # output\n",
    "    tunning_result: pd.DataFrame\n",
    "    \"\"\"\n",
    "    L = 61\n",
    "    W = 7\n",
    "    D_up = 0.60\n",
    "    D_down_list = [0.6,0.7,0.8,0.9,0.95,1.0,1.1,1.2,1.3,1.4,1.5,1.6,1.7,1.8,1.9,2.0]\n",
    "\n",
    "    return pd.DataFrame([[D_down, \n",
    "                          back_test(x, L, W, D_up, D_down)[0]['pnl'].iloc[-1], \n",
    "                          back_test(x, L, W, D_up, D_down)[1],\n",
    "                          back_test(x, L, W, D_up, D_down)[2]]\n",
    "                         for D_down in D_down_list], \n",
    "                 columns=['D_down', 'pnl', 'drawdown', 'sharpe'])"
   ]
  },
  {
   "cell_type": "code",
   "execution_count": 38,
   "metadata": {},
   "outputs": [],
   "source": [
    "df_down = tune_hyper_down(data)\n",
    "df_down_sort = df_down.sort_values(by=['sharpe'], ascending=False)"
   ]
  },
  {
   "cell_type": "code",
   "execution_count": 39,
   "metadata": {},
   "outputs": [
    {
     "data": {
      "text/html": [
       "<div>\n",
       "<style scoped>\n",
       "    .dataframe tbody tr th:only-of-type {\n",
       "        vertical-align: middle;\n",
       "    }\n",
       "\n",
       "    .dataframe tbody tr th {\n",
       "        vertical-align: top;\n",
       "    }\n",
       "\n",
       "    .dataframe thead th {\n",
       "        text-align: right;\n",
       "    }\n",
       "</style>\n",
       "<table border=\"1\" class=\"dataframe\">\n",
       "  <thead>\n",
       "    <tr style=\"text-align: right;\">\n",
       "      <th></th>\n",
       "      <th>D_down</th>\n",
       "      <th>pnl</th>\n",
       "      <th>drawdown</th>\n",
       "      <th>sharpe</th>\n",
       "    </tr>\n",
       "  </thead>\n",
       "  <tbody>\n",
       "    <tr>\n",
       "      <th>10</th>\n",
       "      <td>1.50</td>\n",
       "      <td>1.882577</td>\n",
       "      <td>-0.056580</td>\n",
       "      <td>2.488259</td>\n",
       "    </tr>\n",
       "    <tr>\n",
       "      <th>11</th>\n",
       "      <td>1.60</td>\n",
       "      <td>1.792563</td>\n",
       "      <td>-0.060162</td>\n",
       "      <td>2.263860</td>\n",
       "    </tr>\n",
       "    <tr>\n",
       "      <th>12</th>\n",
       "      <td>1.70</td>\n",
       "      <td>1.758558</td>\n",
       "      <td>-0.060162</td>\n",
       "      <td>2.173496</td>\n",
       "    </tr>\n",
       "    <tr>\n",
       "      <th>13</th>\n",
       "      <td>1.80</td>\n",
       "      <td>1.642328</td>\n",
       "      <td>-0.060162</td>\n",
       "      <td>1.981287</td>\n",
       "    </tr>\n",
       "    <tr>\n",
       "      <th>14</th>\n",
       "      <td>1.90</td>\n",
       "      <td>1.642328</td>\n",
       "      <td>-0.060162</td>\n",
       "      <td>1.981287</td>\n",
       "    </tr>\n",
       "    <tr>\n",
       "      <th>9</th>\n",
       "      <td>1.40</td>\n",
       "      <td>1.748912</td>\n",
       "      <td>-0.125777</td>\n",
       "      <td>1.943765</td>\n",
       "    </tr>\n",
       "    <tr>\n",
       "      <th>15</th>\n",
       "      <td>2.00</td>\n",
       "      <td>1.613532</td>\n",
       "      <td>-0.056580</td>\n",
       "      <td>1.904132</td>\n",
       "    </tr>\n",
       "    <tr>\n",
       "      <th>8</th>\n",
       "      <td>1.30</td>\n",
       "      <td>1.729031</td>\n",
       "      <td>-0.130381</td>\n",
       "      <td>1.888278</td>\n",
       "    </tr>\n",
       "    <tr>\n",
       "      <th>7</th>\n",
       "      <td>1.20</td>\n",
       "      <td>1.707975</td>\n",
       "      <td>-0.130381</td>\n",
       "      <td>1.828925</td>\n",
       "    </tr>\n",
       "    <tr>\n",
       "      <th>6</th>\n",
       "      <td>1.10</td>\n",
       "      <td>1.655539</td>\n",
       "      <td>-0.130381</td>\n",
       "      <td>1.668791</td>\n",
       "    </tr>\n",
       "    <tr>\n",
       "      <th>5</th>\n",
       "      <td>1.00</td>\n",
       "      <td>1.555693</td>\n",
       "      <td>-0.130381</td>\n",
       "      <td>1.363233</td>\n",
       "    </tr>\n",
       "    <tr>\n",
       "      <th>2</th>\n",
       "      <td>0.80</td>\n",
       "      <td>1.546319</td>\n",
       "      <td>-0.161452</td>\n",
       "      <td>1.258171</td>\n",
       "    </tr>\n",
       "    <tr>\n",
       "      <th>4</th>\n",
       "      <td>0.95</td>\n",
       "      <td>1.520456</td>\n",
       "      <td>-0.161452</td>\n",
       "      <td>1.247297</td>\n",
       "    </tr>\n",
       "    <tr>\n",
       "      <th>3</th>\n",
       "      <td>0.90</td>\n",
       "      <td>1.445872</td>\n",
       "      <td>-0.161452</td>\n",
       "      <td>1.049874</td>\n",
       "    </tr>\n",
       "    <tr>\n",
       "      <th>0</th>\n",
       "      <td>0.60</td>\n",
       "      <td>1.412541</td>\n",
       "      <td>-0.222605</td>\n",
       "      <td>0.882272</td>\n",
       "    </tr>\n",
       "    <tr>\n",
       "      <th>1</th>\n",
       "      <td>0.70</td>\n",
       "      <td>1.412541</td>\n",
       "      <td>-0.222605</td>\n",
       "      <td>0.882272</td>\n",
       "    </tr>\n",
       "  </tbody>\n",
       "</table>\n",
       "</div>"
      ],
      "text/plain": [
       "    D_down       pnl  drawdown    sharpe\n",
       "10    1.50  1.882577 -0.056580  2.488259\n",
       "11    1.60  1.792563 -0.060162  2.263860\n",
       "12    1.70  1.758558 -0.060162  2.173496\n",
       "13    1.80  1.642328 -0.060162  1.981287\n",
       "14    1.90  1.642328 -0.060162  1.981287\n",
       "9     1.40  1.748912 -0.125777  1.943765\n",
       "15    2.00  1.613532 -0.056580  1.904132\n",
       "8     1.30  1.729031 -0.130381  1.888278\n",
       "7     1.20  1.707975 -0.130381  1.828925\n",
       "6     1.10  1.655539 -0.130381  1.668791\n",
       "5     1.00  1.555693 -0.130381  1.363233\n",
       "2     0.80  1.546319 -0.161452  1.258171\n",
       "4     0.95  1.520456 -0.161452  1.247297\n",
       "3     0.90  1.445872 -0.161452  1.049874\n",
       "0     0.60  1.412541 -0.222605  0.882272\n",
       "1     0.70  1.412541 -0.222605  0.882272"
      ]
     },
     "execution_count": 39,
     "metadata": {},
     "output_type": "execute_result"
    }
   ],
   "source": [
    "df_down_sort"
   ]
  },
  {
   "cell_type": "code",
   "execution_count": 40,
   "metadata": {},
   "outputs": [
    {
     "data": {
      "text/plain": [
       "Text(0, 0.5, 'sharpe ratio')"
      ]
     },
     "execution_count": 40,
     "metadata": {},
     "output_type": "execute_result"
    },
    {
     "data": {
      "image/png": "[encoded data removed]",
      "text/plain": [
       "<Figure size 432x288 with 1 Axes>"
      ]
     },
     "metadata": {
      "needs_background": "light"
     },
     "output_type": "display_data"
    }
   ],
   "source": [
    "plt.plot(df_down.D_down,df_down.sharpe)\n",
    "plt.xlabel('D_down')\n",
    "plt.ylabel('sharpe ratio')"
   ]
  },
  {
   "cell_type": "markdown",
   "metadata": {},
   "source": [
    "We fixed L = 61, W = 7 and D_up = 0.60, and set D_down's range as [0.60,2.00]. We got the optimal sharpe ratio at 2.488259 when D_down = 1.50. We found that when D_down changes between 0.60 to 2.00, the corresponding sharpe ratio changes between 1.00 to 2.40. Comparing with the result above, sharpe ratio is more sensitive to D_down than D_up. Therefore, we picked the L = 61, W = 7, D_up = 0.60 and D_down = 1.50 as our optimal parameters as they generate the best sharpe ratio. "
   ]
  },
  {
   "cell_type": "markdown",
   "metadata": {},
   "source": [
    "## Optimal Hyperparameters: L = 61, W =7, D_up=0.60, D_down=1.50"
   ]
  },
  {
   "cell_type": "code",
   "execution_count": 41,
   "metadata": {
    "colab": {
     "base_uri": "https://localhost:8080/",
     "height": 424
    },
    "id": "f5_6_K1v2g--",
    "outputId": "aa8025b7-03f3-434d-e2c4-872ad220fba1"
   },
   "outputs": [
    {
     "data": {
      "text/html": [
       "<div>\n",
       "<style scoped>\n",
       "    .dataframe tbody tr th:only-of-type {\n",
       "        vertical-align: middle;\n",
       "    }\n",
       "\n",
       "    .dataframe tbody tr th {\n",
       "        vertical-align: top;\n",
       "    }\n",
       "\n",
       "    .dataframe thead th {\n",
       "        text-align: right;\n",
       "    }\n",
       "</style>\n",
       "<table border=\"1\" class=\"dataframe\">\n",
       "  <thead>\n",
       "    <tr style=\"text-align: right;\">\n",
       "      <th></th>\n",
       "      <th>KO-adjclose</th>\n",
       "      <th>PEP-adjclose</th>\n",
       "      <th>Date</th>\n",
       "      <th>Signal</th>\n",
       "      <th>Beta</th>\n",
       "      <th>KO-adjclose-shifted</th>\n",
       "      <th>PEP-adjclose-shifted</th>\n",
       "      <th>Return</th>\n",
       "      <th>pnl</th>\n",
       "    </tr>\n",
       "  </thead>\n",
       "  <tbody>\n",
       "    <tr>\n",
       "      <th>0</th>\n",
       "      <td>41.463970</td>\n",
       "      <td>109.685860</td>\n",
       "      <td>2019-03-28</td>\n",
       "      <td>-1</td>\n",
       "      <td>-0.356398</td>\n",
       "      <td>41.437260</td>\n",
       "      <td>109.829903</td>\n",
       "      <td>-0.000177</td>\n",
       "      <td>0.999823</td>\n",
       "    </tr>\n",
       "    <tr>\n",
       "      <th>7</th>\n",
       "      <td>41.437260</td>\n",
       "      <td>109.829903</td>\n",
       "      <td>2019-04-08</td>\n",
       "      <td>-1</td>\n",
       "      <td>-0.249986</td>\n",
       "      <td>42.087090</td>\n",
       "      <td>114.340118</td>\n",
       "      <td>0.025621</td>\n",
       "      <td>1.025440</td>\n",
       "    </tr>\n",
       "    <tr>\n",
       "      <th>14</th>\n",
       "      <td>42.087090</td>\n",
       "      <td>114.340118</td>\n",
       "      <td>2019-04-17</td>\n",
       "      <td>-1</td>\n",
       "      <td>-0.211640</td>\n",
       "      <td>43.101875</td>\n",
       "      <td>114.052063</td>\n",
       "      <td>0.023292</td>\n",
       "      <td>1.049324</td>\n",
       "    </tr>\n",
       "    <tr>\n",
       "      <th>21</th>\n",
       "      <td>43.101875</td>\n",
       "      <td>114.052063</td>\n",
       "      <td>2019-04-29</td>\n",
       "      <td>-1</td>\n",
       "      <td>0.041048</td>\n",
       "      <td>42.594475</td>\n",
       "      <td>113.448875</td>\n",
       "      <td>-0.011624</td>\n",
       "      <td>1.037126</td>\n",
       "    </tr>\n",
       "    <tr>\n",
       "      <th>28</th>\n",
       "      <td>42.594475</td>\n",
       "      <td>113.448875</td>\n",
       "      <td>2019-05-08</td>\n",
       "      <td>0</td>\n",
       "      <td>0.419463</td>\n",
       "      <td>43.796204</td>\n",
       "      <td>117.490974</td>\n",
       "      <td>0.000000</td>\n",
       "      <td>1.037126</td>\n",
       "    </tr>\n",
       "  </tbody>\n",
       "</table>\n",
       "</div>"
      ],
      "text/plain": [
       "    KO-adjclose  PEP-adjclose       Date  Signal      Beta  \\\n",
       "0     41.463970    109.685860 2019-03-28      -1 -0.356398   \n",
       "7     41.437260    109.829903 2019-04-08      -1 -0.249986   \n",
       "14    42.087090    114.340118 2019-04-17      -1 -0.211640   \n",
       "21    43.101875    114.052063 2019-04-29      -1  0.041048   \n",
       "28    42.594475    113.448875 2019-05-08       0  0.419463   \n",
       "\n",
       "    KO-adjclose-shifted  PEP-adjclose-shifted    Return       pnl  \n",
       "0             41.437260            109.829903 -0.000177  0.999823  \n",
       "7             42.087090            114.340118  0.025621  1.025440  \n",
       "14            43.101875            114.052063  0.023292  1.049324  \n",
       "21            42.594475            113.448875 -0.011624  1.037126  \n",
       "28            43.796204            117.490974  0.000000  1.037126  "
      ]
     },
     "execution_count": 41,
     "metadata": {},
     "output_type": "execute_result"
    }
   ],
   "source": [
    "optimal_df, dd, sharpe = back_test(data, L = 61, W =7, D_up=0.60, D_down=1.50)\n",
    "optimal_df.head()"
   ]
  },
  {
   "cell_type": "code",
   "execution_count": 42,
   "metadata": {
    "colab": {
     "base_uri": "https://localhost:8080/",
     "height": 339
    },
    "id": "PuQcBHN4bbio",
    "outputId": "0b31943e-7eee-4168-9f5b-dd12fa6fee10"
   },
   "outputs": [
    {
     "data": {
      "text/plain": [
       "<AxesSubplot:>"
      ]
     },
     "execution_count": 42,
     "metadata": {},
     "output_type": "execute_result"
    },
    {
     "data": {
      "image/png": "[encoded data removed]",
      "text/plain": [
       "<Figure size 432x288 with 1 Axes>"
      ]
     },
     "metadata": {
      "needs_background": "light"
     },
     "output_type": "display_data"
    }
   ],
   "source": [
    "optimal_df['pnl'].plot()"
   ]
  },
  {
   "cell_type": "code",
   "execution_count": 43,
   "metadata": {
    "colab": {
     "base_uri": "https://localhost:8080/",
     "height": 283
    },
    "id": "DRE_xnYSqsFC",
    "outputId": "29fd3697-6e36-41f0-af73-e02213419f5c"
   },
   "outputs": [
    {
     "data": {
      "text/plain": [
       "<AxesSubplot:>"
      ]
     },
     "execution_count": 43,
     "metadata": {},
     "output_type": "execute_result"
    },
    {
     "data": {
      "image/png": "[encoded data removed]",
      "text/plain": [
       "<Figure size 432x288 with 1 Axes>"
      ]
     },
     "metadata": {
      "needs_background": "light"
     },
     "output_type": "display_data"
    }
   ],
   "source": [
    "optimal_df['Return'].plot()"
   ]
  },
  {
   "cell_type": "code",
   "execution_count": 44,
   "metadata": {
    "colab": {
     "base_uri": "https://localhost:8080/"
    },
    "id": "2-MvKxUgq77L",
    "outputId": "edcb231c-f34a-4020-a5b7-158ef6bfd728"
   },
   "outputs": [
    {
     "data": {
      "text/plain": [
       "False    83\n",
       "True     51\n",
       "Name: Return, dtype: int64"
      ]
     },
     "execution_count": 44,
     "metadata": {},
     "output_type": "execute_result"
    }
   ],
   "source": [
    "(optimal_df['Return'] > 0).value_counts()"
   ]
  },
  {
   "cell_type": "markdown",
   "metadata": {},
   "source": [
    "In last 1000 days, amongs the days we trades, we made money in 51 days and lost money in 83 days. "
   ]
  },
  {
   "cell_type": "code",
   "execution_count": 45,
   "metadata": {},
   "outputs": [
    {
     "data": {
      "text/plain": [
       "1.8825770562726845"
      ]
     },
     "execution_count": 45,
     "metadata": {},
     "output_type": "execute_result"
    }
   ],
   "source": [
    "#cumul pnl\n",
    "optimal_df.pnl.iloc[-1]"
   ]
  },
  {
   "cell_type": "code",
   "execution_count": 46,
   "metadata": {},
   "outputs": [
    {
     "data": {
      "text/plain": [
       "-0.056579566422091394"
      ]
     },
     "execution_count": 46,
     "metadata": {},
     "output_type": "execute_result"
    }
   ],
   "source": [
    "# Max Drawdown\n",
    "dd"
   ]
  },
  {
   "cell_type": "code",
   "execution_count": 47,
   "metadata": {},
   "outputs": [
    {
     "data": {
      "text/plain": [
       "2.4882592039044353"
      ]
     },
     "execution_count": 47,
     "metadata": {},
     "output_type": "execute_result"
    }
   ],
   "source": [
    "# Sharpe Ratio\n",
    "sharpe"
   ]
  },
  {
   "cell_type": "markdown",
   "metadata": {},
   "source": [
    "With our pairs trading strategy, cumulative pnl in 1000 trading days is about 88.26%, maximum drawdown is about -5.66%, sharpe ratio is 2.49."
   ]
  },
  {
   "cell_type": "code",
   "execution_count": null,
   "metadata": {},
   "outputs": [],
   "source": []
  }
 ],
 "metadata": {
  "accelerator": "GPU",
  "colab": {
   "provenance": []
  },
  "gpuClass": "standard",
  "kernelspec": {
   "display_name": "Python 3 (ipykernel)",
   "language": "python",
   "name": "python3"
  },
  "language_info": {
   "codemirror_mode": {
    "name": "ipython",
    "version": 3
   },
   "file_extension": ".py",
   "mimetype": "text/x-python",
   "name": "python",
   "nbconvert_exporter": "python",
   "pygments_lexer": "ipython3",
   "version": "3.9.7"
  },
  "toc": {
   "base_numbering": 1,
   "nav_menu": {},
   "number_sections": true,
   "sideBar": true,
   "skip_h1_title": false,
   "title_cell": "Table of Contents",
   "title_sidebar": "Contents",
   "toc_cell": false,
   "toc_position": {
    "height": "calc(100% - 180px)",
    "left": "10px",
    "top": "150px",
    "width": "165px"
   },
   "toc_section_display": true,
   "toc_window_display": true
  }
 },
 "nbformat": 4,
 "nbformat_minor": 1
}
